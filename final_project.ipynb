{
  "cells": [
    {
      "cell_type": "code",
      "source": [
        "!pip install pymc\n",
        "!pip install numpyro\n",
        "!pip install aeppl\n",
        "!pip install jax"
      ],
      "metadata": {
        "collapsed": true,
        "id": "uViPQmnLRxej"
      },
      "execution_count": null,
      "outputs": []
    },
    {
      "cell_type": "code",
      "source": [
        "from google.colab import drive\n",
        "drive.mount('/content/drive')"
      ],
      "metadata": {
        "colab": {
          "base_uri": "https://localhost:8080/"
        },
        "id": "uWC65FteSCuC",
        "outputId": "af1d70d1-de32-4082-94f0-627ff2aedfc4"
      },
      "execution_count": 2,
      "outputs": [
        {
          "output_type": "stream",
          "name": "stdout",
          "text": [
            "Mounted at /content/drive\n"
          ]
        }
      ]
    },
    {
      "cell_type": "code",
      "source": [
        "%cd drive\n",
        "%cd MyDrive\n",
        "%cd cs179"
      ],
      "metadata": {
        "colab": {
          "base_uri": "https://localhost:8080/"
        },
        "id": "uBRMXtU9SO24",
        "outputId": "6b062841-718a-4b0c-aa8e-f8a5ade79901"
      },
      "execution_count": 3,
      "outputs": [
        {
          "output_type": "stream",
          "name": "stdout",
          "text": [
            "/content/drive\n",
            "/content/drive/MyDrive\n",
            "/content/drive/MyDrive/cs179\n"
          ]
        }
      ]
    },
    {
      "cell_type": "code",
      "source": [
        "import pandas as pd\n",
        "\n",
        "csv_file_path = '/drive/MyDrive/cs179/games.csv'\n",
        "\n",
        "#getting info\n",
        "df = pd.read_csv('games.csv')\n",
        "\n",
        "#print(df['white_id'])\n",
        "white_ids = df['white_id']\n",
        "black_ids =  df[\"black_id\"]\n",
        "winners = df[\"winner\"]\n",
        "\n",
        "print(white_ids[:5])"
      ],
      "metadata": {
        "colab": {
          "base_uri": "https://localhost:8080/"
        },
        "id": "k7bTBmt2SU2Y",
        "outputId": "aa137096-25b0-4761-a8cd-4133220340cb"
      },
      "execution_count": 4,
      "outputs": [
        {
          "output_type": "stream",
          "name": "stdout",
          "text": [
            "0         bourgris\n",
            "1             a-00\n",
            "2           ischia\n",
            "3    daniamurashov\n",
            "4        nik221107\n",
            "Name: white_id, dtype: object\n"
          ]
        }
      ]
    },
    {
      "cell_type": "code",
      "source": [
        "import numpy as np\n",
        "\n",
        "uniqueppl = white_ids.tolist()\n",
        "uniqueppl.extend(black_ids.tolist())\n",
        "\n",
        "uppl = np.array(list(set(uniqueppl)))#set of unique people\n",
        "\n",
        "n_players = len(uppl)\n",
        "\n",
        "# reformat gamesplayed -> winner first, loser second\n",
        "gamesplayed = []\n",
        "for game in range(len(df)):\n",
        "    white_id = df.iloc[game].white_id\n",
        "    black_id = df.iloc[game].black_id\n",
        "\n",
        "    if df.iloc[game].winner == \"white\":\n",
        "        gamesplayed.append([white_id, black_id])\n",
        "    if df.iloc[game].winner == \"black\":\n",
        "        gamesplayed.append([black_id, white_id])\n",
        "\n",
        "print(gamesplayed[0:5])"
      ],
      "metadata": {
        "colab": {
          "base_uri": "https://localhost:8080/"
        },
        "id": "eUHkd7NASYEq",
        "outputId": "919ee1ee-6f30-4a5e-ed22-71ec25306ea3"
      },
      "execution_count": 5,
      "outputs": [
        {
          "output_type": "stream",
          "name": "stdout",
          "text": [
            "[['bourgris', 'a-00'], ['skinnerua', 'a-00'], ['ischia', 'a-00'], ['daniamurashov', 'adivanov2009'], ['nik221107', 'adivanov2009']]\n"
          ]
        }
      ]
    },
    {
      "cell_type": "code",
      "source": [
        "import numpy as np\n",
        "import pymc as pm\n",
        "\n",
        "# convert str to int\n",
        "player_to_id = {player: i for i, player in enumerate(uppl)}\n",
        "player_ids = np.array([[player_to_id[winner], player_to_id[loser]] for winner, loser in gamesplayed])\n",
        "\n",
        "# check sizes -> something is wrong here. tracce has more players than uppl\n",
        "print(len(uppl))\n",
        "print(len(player_to_id))\n",
        "print(len(player_ids))\n",
        "\n",
        "with pm.Model() as model:\n",
        "    player_sd = pm.HalfNormal(\"player_sd\", sigma=1.0)\n",
        "    player_skills_raw = pm.Normal(\n",
        "        \"player_skills_raw\", 0.0, sigma=1.0, shape=(n_players,)\n",
        "    )\n",
        "    player_skills = pm.Deterministic(\"player_skills\", player_skills_raw * player_sd)\n",
        "\n",
        "    winner_ids = player_ids[:, 0]\n",
        "    loser_ids = player_ids[:, 1]\n",
        "\n",
        "    logit_skills = player_skills[winner_ids] - player_skills[loser_ids]\n",
        "    lik = pm.Bernoulli(\n",
        "        \"win_lik\", logit_p=logit_skills, observed=np.ones(winner_ids.shape[0])\n",
        "    )\n",
        "\n",
        "    # Sample using the numpyro backend for JAX\n",
        "    trace = pm.sample(1000, tune=1000, chains=4, cores=1, nuts_sampler='numpyro', random_seed=42)"
      ],
      "metadata": {
        "colab": {
          "base_uri": "https://localhost:8080/"
        },
        "id": "p7OcVygUfIMS",
        "outputId": "beda851d-325c-4ab4-c2da-ecde53e92b6e"
      },
      "execution_count": 6,
      "outputs": [
        {
          "output_type": "stream",
          "name": "stdout",
          "text": [
            "15635\n",
            "15635\n",
            "19108\n"
          ]
        },
        {
          "output_type": "stream",
          "name": "stderr",
          "text": [
            "/usr/local/lib/python3.10/dist-packages/pymc/sampling/jax.py:687: UserWarning: There are not enough devices to run parallel chains: expected 4 but got 1. Chains will be drawn sequentially. If you are running MCMC in CPU, consider using `numpyro.set_host_device_count(4)` at the beginning of your program. You can double-check how many devices are available in your system using `jax.local_device_count()`.\n",
            "  pmap_numpyro = MCMC(\n",
            "sample: 100%|██████████| 2000/2000 [00:46<00:00, 42.66it/s, 31 steps of size 1.15e-01. acc. prob=0.86]\n",
            "sample: 100%|██████████| 2000/2000 [00:41<00:00, 48.33it/s, 31 steps of size 1.21e-01. acc. prob=0.85]\n",
            "sample: 100%|██████████| 2000/2000 [00:42<00:00, 47.39it/s, 31 steps of size 1.26e-01. acc. prob=0.84]\n",
            "sample: 100%|██████████| 2000/2000 [00:43<00:00, 46.05it/s, 31 steps of size 1.22e-01. acc. prob=0.85]\n"
          ]
        }
      ]
    },
    {
      "cell_type": "code",
      "source": [
        "import arviz as az\n",
        "\n",
        "summary = az.summary(trace, kind=\"stats\")"
      ],
      "metadata": {
        "id": "GkiZOLH1noCO"
      },
      "execution_count": 7,
      "outputs": []
    },
    {
      "cell_type": "code",
      "source": [
        "# filter out raw player skills (useless)\n",
        "player_skills_summary = summary[~summary.index.str.startswith('player_skills_raw')]\n",
        "player_skills_summary = player_skills_summary[1:]\n",
        "\n",
        "player_means = player_skills_summary['mean']\n",
        "player_sds = player_skills_summary['sd']\n",
        "\n",
        "# Create df\n",
        "player_skills_df = pd.DataFrame({\n",
        "    'Player Name': uppl,\n",
        "    'Skill Mean': player_means.values,\n",
        "    'Skill SD': player_sds.values\n",
        "})\n",
        "\n",
        "sorted_player_skills_df = player_skills_df.sort_values(by='Skill Mean', ascending=False)\n",
        "print(sorted_player_skills_df)\n"
      ],
      "metadata": {
        "colab": {
          "base_uri": "https://localhost:8080/"
        },
        "id": "-UvDVW7SqseD",
        "outputId": "d2c9cd7e-688f-4763-b152-83780362376a"
      },
      "execution_count": 8,
      "outputs": [
        {
          "output_type": "stream",
          "name": "stdout",
          "text": [
            "               Player Name  Skill Mean  Skill SD\n",
            "7887             chesscarl       3.474     0.685\n",
            "12430             siindbad       3.272     0.814\n",
            "7035              mmichael       3.104     0.823\n",
            "9655           amir2002zzz       2.961     0.835\n",
            "11607           steelviper       2.861     0.839\n",
            "...                    ...         ...       ...\n",
            "13574           sveenemand      -2.771     0.666\n",
            "3121              ghaffari      -2.786     0.716\n",
            "4142   josephelbouhessaini      -2.878     0.875\n",
            "8515              mccheese      -2.893     0.717\n",
            "12091           stellanova      -3.150     0.814\n",
            "\n",
            "[15635 rows x 3 columns]\n"
          ]
        }
      ]
    },
    {
      "cell_type": "code",
      "source": [
        "# Concatenate white_id and black_id columns to get all player ids\n",
        "all_player_ids = pd.concat([df['white_id'], df['black_id']]).unique()\n",
        "\n",
        "player_max_ratings = {}\n",
        "\n",
        "for player_id in all_player_ids:\n",
        "    # Get maximum rating for the current player from both white and black ratings\n",
        "    max_rating = max(df.loc[df['white_id'] == player_id, 'white_rating'].max(),\n",
        "                     df.loc[df['black_id'] == player_id, 'black_rating'].max())\n",
        "    # Store the maximum rating for the player\n",
        "    player_max_ratings[player_id] = max_rating\n",
        "\n",
        "sorted_player_max_ratings = sorted(player_max_ratings.items(), key=lambda x: x[1], reverse=True)\n",
        "\n",
        "max_rating_df = pd.DataFrame(sorted_player_max_ratings, columns=['Player Name', 'Elo Rating'])\n",
        "\n",
        "print(max_rating_df)"
      ],
      "metadata": {
        "colab": {
          "base_uri": "https://localhost:8080/"
        },
        "id": "Ew6zOsd9sMg_",
        "outputId": "b4078dfc-cf7a-48c7-e472-3b13305a0d9f"
      },
      "execution_count": 9,
      "outputs": [
        {
          "output_type": "stream",
          "name": "stdout",
          "text": [
            "               Player Name  Elo Rating\n",
            "0               justicebot      2723.0\n",
            "1              blitzbullet      2622.0\n",
            "2                lance5500      2621.0\n",
            "3      shahoviy_komentator      2586.0\n",
            "4               teatime007      2579.0\n",
            "...                    ...         ...\n",
            "15630             seabacon         NaN\n",
            "15631      yamaguchipolgar         NaN\n",
            "15632   farrukhasomiddinov         NaN\n",
            "15633         schaaksmurf3         NaN\n",
            "15634                ffbob         NaN\n",
            "\n",
            "[15635 rows x 2 columns]\n"
          ]
        }
      ]
    },
    {
      "cell_type": "code",
      "source": [
        "# see how top 5 estimates are actually ranked (0 being the best, 15634 being the worst)\n",
        "\n",
        "print(max_rating_df.loc[max_rating_df['Player Name'] == 'chesscarl'].index[0])\n",
        "print(max_rating_df.loc[max_rating_df['Player Name'] == 'siindbad'].index[0])\n",
        "print(max_rating_df.loc[max_rating_df['Player Name'] == 'mmichael'].index[0])\n",
        "print(max_rating_df.loc[max_rating_df['Player Name'] == 'amir2002zzz'].index[0])\n",
        "print(max_rating_df.loc[max_rating_df['Player Name'] == 'steelviper'].index[0])\n",
        "print()\n",
        "\n",
        "# see how bottom 5 estimates are actually ranked (0 being the best, 15634 being the worst)\n",
        "\n",
        "print(max_rating_df.loc[max_rating_df['Player Name'] == 'ghaffari'].index[0])\n",
        "print(max_rating_df.loc[max_rating_df['Player Name'] == 'sveenemand'].index[0])\n",
        "print(max_rating_df.loc[max_rating_df['Player Name'] == 'josephelbouhessaini'].index[0])\n",
        "print(max_rating_df.loc[max_rating_df['Player Name'] == 'mccheese'].index[0])\n",
        "print(max_rating_df.loc[max_rating_df['Player Name'] == 'stellanova'].index[0])\n",
        "\n"
      ],
      "metadata": {
        "colab": {
          "base_uri": "https://localhost:8080/"
        },
        "id": "UaD9E81wsqHj",
        "outputId": "2ade9ef1-c2a1-4170-9c95-a290144ae98b"
      },
      "execution_count": 10,
      "outputs": [
        {
          "output_type": "stream",
          "name": "stdout",
          "text": [
            "34\n",
            "71\n",
            "185\n",
            "15\n",
            "4867\n",
            "\n",
            "7434\n",
            "8501\n",
            "5816\n",
            "5742\n",
            "7948\n"
          ]
        }
      ]
    }
  ],
  "nbformat": 4,
  "nbformat_minor": 0,
  "metadata": {
    "deepnote_notebook_id": "43a7e570a0884b65a0e61272aad4d6bf",
    "deepnote_execution_queue": [],
    "colab": {
      "provenance": [],
      "gpuType": "T4"
    },
    "language_info": {
      "name": "python"
    },
    "kernelspec": {
      "name": "python3",
      "display_name": "Python 3"
    },
    "accelerator": "GPU"
  }
}