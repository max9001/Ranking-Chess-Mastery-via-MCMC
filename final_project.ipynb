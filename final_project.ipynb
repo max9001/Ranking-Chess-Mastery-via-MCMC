{
 "cells": [
  {
   "cell_type": "code",
   "execution_count": 1,
   "metadata": {
    "cell_id": "43cb7283a46e4ff284e3cb91169c0142",
    "deepnote_cell_type": "code",
    "deepnote_to_be_reexecuted": false,
    "execution_millis": 10615,
    "execution_start": 1716517288716,
    "source_hash": "24fc5825"
   },
   "outputs": [
    {
     "name": "stdout",
     "output_type": "stream",
     "text": [
      "Requirement already satisfied: sortedcontainers in c:\\users\\micha\\anaconda3\\lib\\site-packages (2.4.0)\n",
      "Collecting git+https://github.com/ihler/pyGMs.git\n",
      "  Cloning https://github.com/ihler/pyGMs.git to c:\\users\\micha\\appdata\\local\\temp\\pip-req-build-sek7g4cz\n",
      "  Resolved https://github.com/ihler/pyGMs.git to commit 600d48493b868df42da2d6119ee14020c665c59d\n",
      "  Preparing metadata (setup.py): started\n",
      "  Preparing metadata (setup.py): finished with status 'done'\n",
      "Building wheels for collected packages: pyGMs\n",
      "  Building wheel for pyGMs (setup.py): started\n",
      "  Building wheel for pyGMs (setup.py): finished with status 'done'\n",
      "  Created wheel for pyGMs: filename=pyGMs-0.1.1-py3-none-any.whl size=94863 sha256=e90271593def5930eb97a1c782ed5bf0cd28eae15ed94c3537ff6b6d0e6d0313\n",
      "  Stored in directory: C:\\Users\\micha\\AppData\\Local\\Temp\\pip-ephem-wheel-cache-pdjitg5o\\wheels\\24\\67\\25\\21d0f2bc6cf79446996c34661dec91090691403e4ac95758ce\n",
      "Successfully built pyGMs\n",
      "Installing collected packages: pyGMs\n",
      "  Attempting uninstall: pyGMs\n",
      "    Found existing installation: pyGMs 0.2.0\n",
      "    Uninstalling pyGMs-0.2.0:\n",
      "      Successfully uninstalled pyGMs-0.2.0\n",
      "Successfully installed pyGMs-0.1.1\n"
     ]
    },
    {
     "name": "stderr",
     "output_type": "stream",
     "text": [
      "  Running command git clone --filter=blob:none --quiet https://github.com/ihler/pyGMs.git 'C:\\Users\\micha\\AppData\\Local\\Temp\\pip-req-build-sek7g4cz'\n"
     ]
    },
    {
     "name": "stdout",
     "output_type": "stream",
     "text": [
      "Requirement already satisfied: pyro-ppl in c:\\users\\micha\\anaconda3\\lib\\site-packages (1.9.0)\n",
      "Requirement already satisfied: numpy>=1.7 in c:\\users\\micha\\anaconda3\\lib\\site-packages (from pyro-ppl) (1.26.4)\n",
      "Requirement already satisfied: opt-einsum>=2.3.2 in c:\\users\\micha\\anaconda3\\lib\\site-packages (from pyro-ppl) (3.3.0)\n",
      "Requirement already satisfied: pyro-api>=0.1.1 in c:\\users\\micha\\anaconda3\\lib\\site-packages (from pyro-ppl) (0.1.2)\n",
      "Requirement already satisfied: torch>=2.0 in c:\\users\\micha\\anaconda3\\lib\\site-packages (from pyro-ppl) (2.3.0)\n",
      "Requirement already satisfied: tqdm>=4.36 in c:\\users\\micha\\anaconda3\\lib\\site-packages (from pyro-ppl) (4.65.0)\n",
      "Requirement already satisfied: filelock in c:\\users\\micha\\anaconda3\\lib\\site-packages (from torch>=2.0->pyro-ppl) (3.13.1)\n",
      "Requirement already satisfied: typing-extensions>=4.8.0 in c:\\users\\micha\\anaconda3\\lib\\site-packages (from torch>=2.0->pyro-ppl) (4.9.0)\n",
      "Requirement already satisfied: sympy in c:\\users\\micha\\anaconda3\\lib\\site-packages (from torch>=2.0->pyro-ppl) (1.12)\n",
      "Requirement already satisfied: networkx in c:\\users\\micha\\anaconda3\\lib\\site-packages (from torch>=2.0->pyro-ppl) (3.1)\n",
      "Requirement already satisfied: jinja2 in c:\\users\\micha\\anaconda3\\lib\\site-packages (from torch>=2.0->pyro-ppl) (3.1.3)\n",
      "Requirement already satisfied: fsspec in c:\\users\\micha\\anaconda3\\lib\\site-packages (from torch>=2.0->pyro-ppl) (2023.10.0)\n",
      "Requirement already satisfied: mkl<=2021.4.0,>=2021.1.1 in c:\\users\\micha\\anaconda3\\lib\\site-packages (from torch>=2.0->pyro-ppl) (2021.4.0)\n",
      "Requirement already satisfied: colorama in c:\\users\\micha\\anaconda3\\lib\\site-packages (from tqdm>=4.36->pyro-ppl) (0.4.6)\n",
      "Requirement already satisfied: intel-openmp==2021.* in c:\\users\\micha\\anaconda3\\lib\\site-packages (from mkl<=2021.4.0,>=2021.1.1->torch>=2.0->pyro-ppl) (2021.4.0)\n",
      "Requirement already satisfied: tbb==2021.* in c:\\users\\micha\\anaconda3\\lib\\site-packages (from mkl<=2021.4.0,>=2021.1.1->torch>=2.0->pyro-ppl) (2021.12.0)\n",
      "Requirement already satisfied: MarkupSafe>=2.0 in c:\\users\\micha\\anaconda3\\lib\\site-packages (from jinja2->torch>=2.0->pyro-ppl) (2.1.3)\n",
      "Requirement already satisfied: mpmath>=0.19 in c:\\users\\micha\\anaconda3\\lib\\site-packages (from sympy->torch>=2.0->pyro-ppl) (1.3.0)\n"
     ]
    }
   ],
   "source": [
    "!pip install sortedcontainers\n",
    "!pip install git+https://github.com/ihler/pyGMs.git\n",
    "!pip install pyro-ppl\n"
   ]
  },
  {
   "cell_type": "code",
   "execution_count": 2,
   "metadata": {
    "cell_id": "af16aabe68104a2a84b3100215b01714",
    "deepnote_cell_type": "code",
    "deepnote_to_be_reexecuted": false,
    "execution_millis": 76,
    "execution_start": 1716517320927,
    "source_hash": "a98e8f5"
   },
   "outputs": [],
   "source": [
    "import matplotlib.pyplot as plt\n",
    "\n",
    "import pyGMs as gm\n",
    "import numpy as np\n",
    "import torch\n",
    "\n",
    "import pyro\n",
    "import pyro.infer\n",
    "import pyro.optim\n",
    "import pyro.distributions as dist\n",
    "import pyro.poutine as poutine\n",
    "\n",
    "import pandas as pd\n",
    "\n",
    "import requests                                      # reading data\n",
    "from io import StringIO\n",
    "import re                                            # regular expressions\n",
    "\n",
    "# Fix the random seed for reproducibility\n",
    "# !! Important !! : do not change this\n",
    "seed = 123\n",
    "pyro.set_rng_seed(seed)\n",
    "#np.random.seed(seed);\n",
    "#torch.manual_seed(seed);"
   ]
  },
  {
   "cell_type": "code",
   "execution_count": 3,
   "metadata": {
    "cell_id": "ceb6874efb6a4ab096d169fa1cfbf42d",
    "deepnote_cell_type": "code",
    "deepnote_to_be_reexecuted": false,
    "execution_millis": 228,
    "execution_start": 1716517327549,
    "source_hash": "d638bf46"
   },
   "outputs": [
    {
     "name": "stdout",
     "output_type": "stream",
     "text": [
      "0         bourgris\n",
      "1             a-00\n",
      "2           ischia\n",
      "3    daniamurashov\n",
      "4        nik221107\n",
      "Name: white_id, dtype: object\n"
     ]
    }
   ],
   "source": [
    "#getting info\n",
    "df = pd.read_csv('games.csv')\n",
    "\n",
    "\n",
    "#print(df['white_id'])\n",
    "white_ids = df['white_id']\n",
    "black_ids =  df[\"black_id\"]\n",
    "winners = df[\"winner\"]\n",
    "\n",
    "print(white_ids[:5])"
   ]
  },
  {
   "cell_type": "code",
   "execution_count": 9,
   "metadata": {
    "cell_id": "baee8ee6638a4b56845cfdcfe220755c",
    "deepnote_cell_type": "code",
    "deepnote_to_be_reexecuted": false,
    "execution_millis": 70,
    "execution_start": 1716518726911,
    "source_hash": "11ec23b4"
   },
   "outputs": [],
   "source": [
    "uniqueppl = white_ids.tolist()\n",
    "uniqueppl.extend(black_ids.tolist())\n",
    "#print(len(set(uniqueppl)))\n",
    "\n",
    "\n",
    "\n",
    "\n",
    "uppl = np.array(list(set(uniqueppl)))#set of unique people\n",
    "\n",
    "gamesplayed = []\n",
    "for game in range(0,len(df)):\n",
    "    p1 = np.argwhere(uppl == df.iloc[game].white_id)[0][0]\n",
    "    p2 =np.argwhere(uppl == df.iloc[game].black_id)[0][0]\n",
    "\n",
    "    winner = 0\n",
    "    if df.iloc[game].winner == \"white\":\n",
    "        winner = 1\n",
    "    if df.iloc[game].winner != \"draw\":\n",
    "        gamesplayed.append([p1,p2,winner])"
   ]
  },
  {
   "cell_type": "code",
   "execution_count": 10,
   "metadata": {
    "cell_id": "be5240497eec446a9ee79ad93c694fa7",
    "deepnote_cell_type": "code",
    "deepnote_to_be_reexecuted": false,
    "execution_millis": 29,
    "execution_start": 1716519018066,
    "source_hash": "d62e7905"
   },
   "outputs": [],
   "source": [
    "def model(matches):\n",
    "    \n",
    "    num_players = max(max(match[0], match[1]) for match in matches)+1\n",
    "    skill = pyro.sample(\"X\", dist.Normal(torch.zeros(num_players), torch.ones(num_players)))\n",
    "    for match in matches:\n",
    "        i, j, outcome = match\n",
    "        skill_diff = skill[i] - skill[j]\n",
    "        pyro.sample(f\"outcome_{i}_{j}\", dist.Bernoulli(logits = skill_diff), obs=torch.tensor(float(outcome)))"
   ]
  },
  {
   "cell_type": "code",
   "execution_count": 11,
   "metadata": {
    "cell_id": "f5e316a2c9f74591af62d1e028a1ef45",
    "deepnote_cell_type": "code",
    "deepnote_to_be_reexecuted": false,
    "execution_millis": 384917,
    "execution_start": 1716519095223,
    "source_hash": "43f981aa"
   },
   "outputs": [
    {
     "name": "stdout",
     "output_type": "stream",
     "text": [
      "[[10611, 15167, 1], [15167, 4451, 0], [6319, 15167, 1], [1342, 10470, 1], [1205, 10470, 1]]\n"
     ]
    },
    {
     "name": "stderr",
     "output_type": "stream",
     "text": [
      "Warmup:   0%|                                         | 4/2050 [08:57, 134.32s/it, step size=5.64e-01, acc. prob=0.488]\n",
      "Sample: 100%|███████████████████████████████████████| 2050/2050 [04:42,  7.27it/s, step size=1.88e-01, acc. prob=0.721]\n"
     ]
    }
   ],
   "source": [
    "matches = gamesplayed[:5]\n",
    "print(matches)\n",
    "nuts_kernel = pyro.infer.NUTS(model, jit_compile=False)\n",
    "mcmc = pyro.infer.MCMC(nuts_kernel,\n",
    "    num_samples=2000,\n",
    "    # warmup_steps=100,\n",
    "    warmup_steps=50,\n",
    "    num_chains=1)\n",
    "mcmc.run(matches)"
   ]
  },
  {
   "cell_type": "code",
   "execution_count": 13,
   "metadata": {
    "cell_id": "9719bd305e824f59b63f09eb81b18902",
    "deepnote_cell_type": "code",
    "deepnote_to_be_reexecuted": true,
    "source_hash": "a15fee9e"
   },
   "outputs": [
    {
     "name": "stdout",
     "output_type": "stream",
     "text": [
      "P(X0>X1): 0.4875\n",
      "P(X0>X3): 0.501\n"
     ]
    }
   ],
   "source": [
    "hmc_samples_chain = {k: v.detach().cpu().numpy() for k, v in mcmc.get_samples().items()}\n",
    "skillsamp_chain = hmc_samples_chain['X']\n",
    "x0_gt_x1 = (skillsamp_chain[:, 0] > skillsamp_chain[:, 1])\n",
    "result = np.sum(x0_gt_x1)/len(x0_gt_x1)\n",
    "print(f'P(X0>X1): {result}')\n",
    "x0_gt_x3 = (skillsamp_chain[:, 0] > skillsamp_chain[:, 3])\n",
    "result = np.sum(x0_gt_x3)/len(x0_gt_x3)\n",
    "print(f'P(X0>X3): {result}')"
   ]
  },
  {
   "cell_type": "code",
   "execution_count": null,
   "metadata": {
    "cell_id": "f76c7709a9bb4fc4a696e945a4903f1d",
    "deepnote_cell_type": "code"
   },
   "outputs": [],
   "source": []
  },
  {
   "cell_type": "markdown",
   "metadata": {
    "created_in_deepnote_cell": true,
    "deepnote_cell_type": "markdown"
   },
   "source": [
    "<a style='text-decoration:none;line-height:16px;display:flex;color:#5B5B62;padding:10px;justify-content:end;' href='https://deepnote.com?utm_source=created-in-deepnote-cell&projectId=f17de2b6-daef-4780-abae-640fa6a3dc63' target=\"_blank\">\n",
    "<img alt='Created in deepnote.com' style='display:inline;max-height:16px;margin:0px;margin-right:7.5px;' src='data:image/svg+xml;base64,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' > </img>\n",
    "Created in <span style='font-weight:600;margin-left:4px;'>Deepnote</span></a>"
   ]
  }
 ],
 "metadata": {
  "deepnote_execution_queue": [],
  "deepnote_notebook_id": "43a7e570a0884b65a0e61272aad4d6bf",
  "kernelspec": {
   "display_name": "Python 3 (ipykernel)",
   "language": "python",
   "name": "python3"
  },
  "language_info": {
   "codemirror_mode": {
    "name": "ipython",
    "version": 3
   },
   "file_extension": ".py",
   "mimetype": "text/x-python",
   "name": "python",
   "nbconvert_exporter": "python",
   "pygments_lexer": "ipython3",
   "version": "3.11.7"
  }
 },
 "nbformat": 4,
 "nbformat_minor": 1
}
