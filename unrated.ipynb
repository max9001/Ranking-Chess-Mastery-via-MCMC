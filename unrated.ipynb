{
  "cells": [
    {
      "cell_type": "code",
      "execution_count": 1,
      "metadata": {
        "colab": {
          "base_uri": "https://localhost:8080/"
        },
        "collapsed": true,
        "id": "uViPQmnLRxej",
        "outputId": "805eb799-0bde-4fa1-932b-1278977d1d75"
      },
      "outputs": [
        {
          "name": "stdout",
          "output_type": "stream",
          "text": [
            "Defaulting to user installation because normal site-packages is not writeable\n",
            "Requirement already satisfied: pymc in c:\\users\\micha\\appdata\\local\\packages\\pythonsoftwarefoundation.python.3.12_qbz5n2kfra8p0\\localcache\\local-packages\\python312\\site-packages (5.15.1)\n",
            "Requirement already satisfied: arviz>=0.13.0 in c:\\users\\micha\\appdata\\local\\packages\\pythonsoftwarefoundation.python.3.12_qbz5n2kfra8p0\\localcache\\local-packages\\python312\\site-packages (from pymc) (0.18.0)\n",
            "Requirement already satisfied: cachetools>=4.2.1 in c:\\users\\micha\\appdata\\local\\packages\\pythonsoftwarefoundation.python.3.12_qbz5n2kfra8p0\\localcache\\local-packages\\python312\\site-packages (from pymc) (5.3.3)\n",
            "Requirement already satisfied: cloudpickle in c:\\users\\micha\\appdata\\local\\packages\\pythonsoftwarefoundation.python.3.12_qbz5n2kfra8p0\\localcache\\local-packages\\python312\\site-packages (from pymc) (3.0.0)\n",
            "Requirement already satisfied: numpy>=1.15.0 in c:\\users\\micha\\appdata\\local\\packages\\pythonsoftwarefoundation.python.3.12_qbz5n2kfra8p0\\localcache\\local-packages\\python312\\site-packages (from pymc) (1.26.4)\n",
            "Requirement already satisfied: pandas>=0.24.0 in c:\\users\\micha\\appdata\\local\\packages\\pythonsoftwarefoundation.python.3.12_qbz5n2kfra8p0\\localcache\\local-packages\\python312\\site-packages (from pymc) (2.2.2)\n",
            "Requirement already satisfied: pytensor<2.23,>=2.22.1 in c:\\users\\micha\\appdata\\local\\packages\\pythonsoftwarefoundation.python.3.12_qbz5n2kfra8p0\\localcache\\local-packages\\python312\\site-packages (from pymc) (2.22.1)\n",
            "Requirement already satisfied: rich>=13.7.1 in c:\\users\\micha\\appdata\\local\\packages\\pythonsoftwarefoundation.python.3.12_qbz5n2kfra8p0\\localcache\\local-packages\\python312\\site-packages (from pymc) (13.7.1)\n",
            "Requirement already satisfied: scipy>=1.4.1 in c:\\users\\micha\\appdata\\local\\packages\\pythonsoftwarefoundation.python.3.12_qbz5n2kfra8p0\\localcache\\local-packages\\python312\\site-packages (from pymc) (1.13.1)\n",
            "Requirement already satisfied: threadpoolctl<4.0.0,>=3.1.0 in c:\\users\\micha\\appdata\\local\\packages\\pythonsoftwarefoundation.python.3.12_qbz5n2kfra8p0\\localcache\\local-packages\\python312\\site-packages (from pymc) (3.5.0)\n",
            "Requirement already satisfied: typing-extensions>=3.7.4 in c:\\users\\micha\\appdata\\local\\packages\\pythonsoftwarefoundation.python.3.12_qbz5n2kfra8p0\\localcache\\local-packages\\python312\\site-packages (from pymc) (4.12.2)\n",
            "Requirement already satisfied: setuptools>=60.0.0 in c:\\users\\micha\\appdata\\local\\packages\\pythonsoftwarefoundation.python.3.12_qbz5n2kfra8p0\\localcache\\local-packages\\python312\\site-packages (from arviz>=0.13.0->pymc) (70.0.0)\n",
            "Requirement already satisfied: matplotlib>=3.5 in c:\\users\\micha\\appdata\\local\\packages\\pythonsoftwarefoundation.python.3.12_qbz5n2kfra8p0\\localcache\\local-packages\\python312\\site-packages (from arviz>=0.13.0->pymc) (3.9.0)\n",
            "Requirement already satisfied: packaging in c:\\users\\micha\\appdata\\local\\packages\\pythonsoftwarefoundation.python.3.12_qbz5n2kfra8p0\\localcache\\local-packages\\python312\\site-packages (from arviz>=0.13.0->pymc) (24.0)\n",
            "Requirement already satisfied: dm-tree>=0.1.8 in c:\\users\\micha\\appdata\\local\\packages\\pythonsoftwarefoundation.python.3.12_qbz5n2kfra8p0\\localcache\\local-packages\\python312\\site-packages (from arviz>=0.13.0->pymc) (0.1.8)\n",
            "Requirement already satisfied: xarray>=2022.6.0 in c:\\users\\micha\\appdata\\local\\packages\\pythonsoftwarefoundation.python.3.12_qbz5n2kfra8p0\\localcache\\local-packages\\python312\\site-packages (from arviz>=0.13.0->pymc) (2024.5.0)\n",
            "Requirement already satisfied: h5netcdf>=1.0.2 in c:\\users\\micha\\appdata\\local\\packages\\pythonsoftwarefoundation.python.3.12_qbz5n2kfra8p0\\localcache\\local-packages\\python312\\site-packages (from arviz>=0.13.0->pymc) (1.3.0)\n",
            "Requirement already satisfied: xarray-einstats>=0.3 in c:\\users\\micha\\appdata\\local\\packages\\pythonsoftwarefoundation.python.3.12_qbz5n2kfra8p0\\localcache\\local-packages\\python312\\site-packages (from arviz>=0.13.0->pymc) (0.7.0)\n",
            "Requirement already satisfied: python-dateutil>=2.8.2 in c:\\users\\micha\\appdata\\local\\packages\\pythonsoftwarefoundation.python.3.12_qbz5n2kfra8p0\\localcache\\local-packages\\python312\\site-packages (from pandas>=0.24.0->pymc) (2.9.0.post0)\n",
            "Requirement already satisfied: pytz>=2020.1 in c:\\users\\micha\\appdata\\local\\packages\\pythonsoftwarefoundation.python.3.12_qbz5n2kfra8p0\\localcache\\local-packages\\python312\\site-packages (from pandas>=0.24.0->pymc) (2024.1)\n",
            "Requirement already satisfied: tzdata>=2022.7 in c:\\users\\micha\\appdata\\local\\packages\\pythonsoftwarefoundation.python.3.12_qbz5n2kfra8p0\\localcache\\local-packages\\python312\\site-packages (from pandas>=0.24.0->pymc) (2024.1)\n",
            "Requirement already satisfied: filelock in c:\\users\\micha\\appdata\\local\\packages\\pythonsoftwarefoundation.python.3.12_qbz5n2kfra8p0\\localcache\\local-packages\\python312\\site-packages (from pytensor<2.23,>=2.22.1->pymc) (3.14.0)\n",
            "Requirement already satisfied: etuples in c:\\users\\micha\\appdata\\local\\packages\\pythonsoftwarefoundation.python.3.12_qbz5n2kfra8p0\\localcache\\local-packages\\python312\\site-packages (from pytensor<2.23,>=2.22.1->pymc) (0.3.9)\n",
            "Requirement already satisfied: logical-unification in c:\\users\\micha\\appdata\\local\\packages\\pythonsoftwarefoundation.python.3.12_qbz5n2kfra8p0\\localcache\\local-packages\\python312\\site-packages (from pytensor<2.23,>=2.22.1->pymc) (0.4.6)\n",
            "Requirement already satisfied: miniKanren in c:\\users\\micha\\appdata\\local\\packages\\pythonsoftwarefoundation.python.3.12_qbz5n2kfra8p0\\localcache\\local-packages\\python312\\site-packages (from pytensor<2.23,>=2.22.1->pymc) (1.0.3)\n",
            "Requirement already satisfied: cons in c:\\users\\micha\\appdata\\local\\packages\\pythonsoftwarefoundation.python.3.12_qbz5n2kfra8p0\\localcache\\local-packages\\python312\\site-packages (from pytensor<2.23,>=2.22.1->pymc) (0.4.6)\n",
            "Requirement already satisfied: markdown-it-py>=2.2.0 in c:\\users\\micha\\appdata\\local\\packages\\pythonsoftwarefoundation.python.3.12_qbz5n2kfra8p0\\localcache\\local-packages\\python312\\site-packages (from rich>=13.7.1->pymc) (3.0.0)\n",
            "Requirement already satisfied: pygments<3.0.0,>=2.13.0 in c:\\users\\micha\\appdata\\local\\packages\\pythonsoftwarefoundation.python.3.12_qbz5n2kfra8p0\\localcache\\local-packages\\python312\\site-packages (from rich>=13.7.1->pymc) (2.18.0)\n",
            "Requirement already satisfied: h5py in c:\\users\\micha\\appdata\\local\\packages\\pythonsoftwarefoundation.python.3.12_qbz5n2kfra8p0\\localcache\\local-packages\\python312\\site-packages (from h5netcdf>=1.0.2->arviz>=0.13.0->pymc) (3.11.0)\n",
            "Requirement already satisfied: mdurl~=0.1 in c:\\users\\micha\\appdata\\local\\packages\\pythonsoftwarefoundation.python.3.12_qbz5n2kfra8p0\\localcache\\local-packages\\python312\\site-packages (from markdown-it-py>=2.2.0->rich>=13.7.1->pymc) (0.1.2)\n",
            "Requirement already satisfied: contourpy>=1.0.1 in c:\\users\\micha\\appdata\\local\\packages\\pythonsoftwarefoundation.python.3.12_qbz5n2kfra8p0\\localcache\\local-packages\\python312\\site-packages (from matplotlib>=3.5->arviz>=0.13.0->pymc) (1.2.1)\n",
            "Requirement already satisfied: cycler>=0.10 in c:\\users\\micha\\appdata\\local\\packages\\pythonsoftwarefoundation.python.3.12_qbz5n2kfra8p0\\localcache\\local-packages\\python312\\site-packages (from matplotlib>=3.5->arviz>=0.13.0->pymc) (0.12.1)\n",
            "Requirement already satisfied: fonttools>=4.22.0 in c:\\users\\micha\\appdata\\local\\packages\\pythonsoftwarefoundation.python.3.12_qbz5n2kfra8p0\\localcache\\local-packages\\python312\\site-packages (from matplotlib>=3.5->arviz>=0.13.0->pymc) (4.53.0)\n",
            "Requirement already satisfied: kiwisolver>=1.3.1 in c:\\users\\micha\\appdata\\local\\packages\\pythonsoftwarefoundation.python.3.12_qbz5n2kfra8p0\\localcache\\local-packages\\python312\\site-packages (from matplotlib>=3.5->arviz>=0.13.0->pymc) (1.4.5)\n",
            "Requirement already satisfied: pillow>=8 in c:\\users\\micha\\appdata\\local\\packages\\pythonsoftwarefoundation.python.3.12_qbz5n2kfra8p0\\localcache\\local-packages\\python312\\site-packages (from matplotlib>=3.5->arviz>=0.13.0->pymc) (10.3.0)\n",
            "Requirement already satisfied: pyparsing>=2.3.1 in c:\\users\\micha\\appdata\\local\\packages\\pythonsoftwarefoundation.python.3.12_qbz5n2kfra8p0\\localcache\\local-packages\\python312\\site-packages (from matplotlib>=3.5->arviz>=0.13.0->pymc) (3.1.2)\n",
            "Requirement already satisfied: six>=1.5 in c:\\users\\micha\\appdata\\local\\packages\\pythonsoftwarefoundation.python.3.12_qbz5n2kfra8p0\\localcache\\local-packages\\python312\\site-packages (from python-dateutil>=2.8.2->pandas>=0.24.0->pymc) (1.16.0)\n",
            "Requirement already satisfied: toolz in c:\\users\\micha\\appdata\\local\\packages\\pythonsoftwarefoundation.python.3.12_qbz5n2kfra8p0\\localcache\\local-packages\\python312\\site-packages (from logical-unification->pytensor<2.23,>=2.22.1->pymc) (0.12.1)\n",
            "Requirement already satisfied: multipledispatch in c:\\users\\micha\\appdata\\local\\packages\\pythonsoftwarefoundation.python.3.12_qbz5n2kfra8p0\\localcache\\local-packages\\python312\\site-packages (from logical-unification->pytensor<2.23,>=2.22.1->pymc) (1.0.0)\n",
            "Defaulting to user installation because normal site-packages is not writeable\n",
            "Requirement already satisfied: numpyro in c:\\users\\micha\\appdata\\local\\packages\\pythonsoftwarefoundation.python.3.12_qbz5n2kfra8p0\\localcache\\local-packages\\python312\\site-packages (0.15.0)\n",
            "Requirement already satisfied: jax>=0.4.14 in c:\\users\\micha\\appdata\\local\\packages\\pythonsoftwarefoundation.python.3.12_qbz5n2kfra8p0\\localcache\\local-packages\\python312\\site-packages (from numpyro) (0.4.28)\n",
            "Requirement already satisfied: jaxlib>=0.4.14 in c:\\users\\micha\\appdata\\local\\packages\\pythonsoftwarefoundation.python.3.12_qbz5n2kfra8p0\\localcache\\local-packages\\python312\\site-packages (from numpyro) (0.4.28)\n",
            "Requirement already satisfied: multipledispatch in c:\\users\\micha\\appdata\\local\\packages\\pythonsoftwarefoundation.python.3.12_qbz5n2kfra8p0\\localcache\\local-packages\\python312\\site-packages (from numpyro) (1.0.0)\n",
            "Requirement already satisfied: numpy in c:\\users\\micha\\appdata\\local\\packages\\pythonsoftwarefoundation.python.3.12_qbz5n2kfra8p0\\localcache\\local-packages\\python312\\site-packages (from numpyro) (1.26.4)\n",
            "Requirement already satisfied: tqdm in c:\\users\\micha\\appdata\\local\\packages\\pythonsoftwarefoundation.python.3.12_qbz5n2kfra8p0\\localcache\\local-packages\\python312\\site-packages (from numpyro) (4.66.4)\n",
            "Requirement already satisfied: ml-dtypes>=0.2.0 in c:\\users\\micha\\appdata\\local\\packages\\pythonsoftwarefoundation.python.3.12_qbz5n2kfra8p0\\localcache\\local-packages\\python312\\site-packages (from jax>=0.4.14->numpyro) (0.4.0)\n",
            "Requirement already satisfied: opt-einsum in c:\\users\\micha\\appdata\\local\\packages\\pythonsoftwarefoundation.python.3.12_qbz5n2kfra8p0\\localcache\\local-packages\\python312\\site-packages (from jax>=0.4.14->numpyro) (3.3.0)\n",
            "Requirement already satisfied: scipy>=1.9 in c:\\users\\micha\\appdata\\local\\packages\\pythonsoftwarefoundation.python.3.12_qbz5n2kfra8p0\\localcache\\local-packages\\python312\\site-packages (from jax>=0.4.14->numpyro) (1.13.1)\n",
            "Requirement already satisfied: colorama in c:\\users\\micha\\appdata\\local\\packages\\pythonsoftwarefoundation.python.3.12_qbz5n2kfra8p0\\localcache\\local-packages\\python312\\site-packages (from tqdm->numpyro) (0.4.6)\n",
            "Defaulting to user installation because normal site-packages is not writeable\n",
            "Requirement already satisfied: aeppl in c:\\users\\micha\\appdata\\local\\packages\\pythonsoftwarefoundation.python.3.12_qbz5n2kfra8p0\\localcache\\local-packages\\python312\\site-packages (0.1.5)\n",
            "Requirement already satisfied: numpy>=1.18.1 in c:\\users\\micha\\appdata\\local\\packages\\pythonsoftwarefoundation.python.3.12_qbz5n2kfra8p0\\localcache\\local-packages\\python312\\site-packages (from aeppl) (1.26.4)\n",
            "Requirement already satisfied: scipy>=1.4.0 in c:\\users\\micha\\appdata\\local\\packages\\pythonsoftwarefoundation.python.3.12_qbz5n2kfra8p0\\localcache\\local-packages\\python312\\site-packages (from aeppl) (1.13.1)\n",
            "Requirement already satisfied: aesara>=2.8.13 in c:\\users\\micha\\appdata\\local\\packages\\pythonsoftwarefoundation.python.3.12_qbz5n2kfra8p0\\localcache\\local-packages\\python312\\site-packages (from aeppl) (2.9.3)\n",
            "Requirement already satisfied: typing-extensions in c:\\users\\micha\\appdata\\local\\packages\\pythonsoftwarefoundation.python.3.12_qbz5n2kfra8p0\\localcache\\local-packages\\python312\\site-packages (from aeppl) (4.12.2)\n",
            "Requirement already satisfied: cons in c:\\users\\micha\\appdata\\local\\packages\\pythonsoftwarefoundation.python.3.12_qbz5n2kfra8p0\\localcache\\local-packages\\python312\\site-packages (from aesara>=2.8.13->aeppl) (0.4.6)\n",
            "Requirement already satisfied: etuples in c:\\users\\micha\\appdata\\local\\packages\\pythonsoftwarefoundation.python.3.12_qbz5n2kfra8p0\\localcache\\local-packages\\python312\\site-packages (from aesara>=2.8.13->aeppl) (0.3.9)\n",
            "Requirement already satisfied: filelock in c:\\users\\micha\\appdata\\local\\packages\\pythonsoftwarefoundation.python.3.12_qbz5n2kfra8p0\\localcache\\local-packages\\python312\\site-packages (from aesara>=2.8.13->aeppl) (3.14.0)\n",
            "Requirement already satisfied: logical-unification in c:\\users\\micha\\appdata\\local\\packages\\pythonsoftwarefoundation.python.3.12_qbz5n2kfra8p0\\localcache\\local-packages\\python312\\site-packages (from aesara>=2.8.13->aeppl) (0.4.6)\n",
            "Requirement already satisfied: minikanren in c:\\users\\micha\\appdata\\local\\packages\\pythonsoftwarefoundation.python.3.12_qbz5n2kfra8p0\\localcache\\local-packages\\python312\\site-packages (from aesara>=2.8.13->aeppl) (1.0.3)\n",
            "Requirement already satisfied: setuptools>=48.0.0 in c:\\users\\micha\\appdata\\local\\packages\\pythonsoftwarefoundation.python.3.12_qbz5n2kfra8p0\\localcache\\local-packages\\python312\\site-packages (from aesara>=2.8.13->aeppl) (70.0.0)\n",
            "Requirement already satisfied: toolz in c:\\users\\micha\\appdata\\local\\packages\\pythonsoftwarefoundation.python.3.12_qbz5n2kfra8p0\\localcache\\local-packages\\python312\\site-packages (from logical-unification->aesara>=2.8.13->aeppl) (0.12.1)\n",
            "Requirement already satisfied: multipledispatch in c:\\users\\micha\\appdata\\local\\packages\\pythonsoftwarefoundation.python.3.12_qbz5n2kfra8p0\\localcache\\local-packages\\python312\\site-packages (from logical-unification->aesara>=2.8.13->aeppl) (1.0.0)\n",
            "Defaulting to user installation because normal site-packages is not writeable\n",
            "Requirement already satisfied: jax in c:\\users\\micha\\appdata\\local\\packages\\pythonsoftwarefoundation.python.3.12_qbz5n2kfra8p0\\localcache\\local-packages\\python312\\site-packages (0.4.28)\n",
            "Requirement already satisfied: ml-dtypes>=0.2.0 in c:\\users\\micha\\appdata\\local\\packages\\pythonsoftwarefoundation.python.3.12_qbz5n2kfra8p0\\localcache\\local-packages\\python312\\site-packages (from jax) (0.4.0)\n",
            "Requirement already satisfied: numpy>=1.22 in c:\\users\\micha\\appdata\\local\\packages\\pythonsoftwarefoundation.python.3.12_qbz5n2kfra8p0\\localcache\\local-packages\\python312\\site-packages (from jax) (1.26.4)\n",
            "Requirement already satisfied: opt-einsum in c:\\users\\micha\\appdata\\local\\packages\\pythonsoftwarefoundation.python.3.12_qbz5n2kfra8p0\\localcache\\local-packages\\python312\\site-packages (from jax) (3.3.0)\n",
            "Requirement already satisfied: scipy>=1.9 in c:\\users\\micha\\appdata\\local\\packages\\pythonsoftwarefoundation.python.3.12_qbz5n2kfra8p0\\localcache\\local-packages\\python312\\site-packages (from jax) (1.13.1)\n"
          ]
        }
      ],
      "source": [
        "!pip install pymc\n",
        "!pip install numpyro\n",
        "!pip install aeppl\n",
        "!pip install jax"
      ]
    },
    {
      "cell_type": "code",
      "execution_count": 2,
      "metadata": {
        "colab": {
          "base_uri": "https://localhost:8080/"
        },
        "id": "uWC65FteSCuC",
        "outputId": "f35b453e-5478-42ba-fb14-42b23463b022"
      },
      "outputs": [
        {
          "name": "stdout",
          "output_type": "stream",
          "text": [
            "Mounted at /content/drive\n"
          ]
        }
      ],
      "source": [
        "from google.colab import drive\n",
        "drive.mount('/content/drive')"
      ]
    },
    {
      "cell_type": "code",
      "execution_count": 3,
      "metadata": {
        "colab": {
          "base_uri": "https://localhost:8080/"
        },
        "id": "uBRMXtU9SO24",
        "outputId": "7f6ff3dd-87a4-4133-ee4d-ed2e10b7ce06"
      },
      "outputs": [
        {
          "name": "stdout",
          "output_type": "stream",
          "text": [
            "/content/drive\n",
            "/content/drive/MyDrive\n",
            "/content/drive/MyDrive/cs179\n"
          ]
        }
      ],
      "source": [
        "%cd drive\n",
        "%cd MyDrive\n",
        "%cd cs179"
      ]
    },
    {
      "cell_type": "code",
      "execution_count": 2,
      "metadata": {
        "colab": {
          "base_uri": "https://localhost:8080/"
        },
        "id": "k7bTBmt2SU2Y",
        "outputId": "f04a2f84-2253-46c9-b3ed-6d9664888b46"
      },
      "outputs": [
        {
          "name": "stdout",
          "output_type": "stream",
          "text": [
            "1             a-00\n",
            "2           ischia\n",
            "3    daniamurashov\n",
            "4        nik221107\n",
            "6          capa_jr\n",
            "Name: white_id, dtype: object\n"
          ]
        }
      ],
      "source": [
        "import pandas as pd\n",
        "\n",
        "csv_file_path = '/drive/MyDrive/cs179/games.csv'\n",
        "\n",
        "#getting info\n",
        "df = pd.read_csv('games.csv')\n",
        "df = df[df['rated'] != False]\n",
        "\n",
        "#print(df['white_id'])\n",
        "white_ids = df['white_id']\n",
        "black_ids =  df[\"black_id\"]\n",
        "winners = df[\"winner\"]\n",
        "\n",
        "print(white_ids[:5])"
      ]
    },
    {
      "cell_type": "code",
      "execution_count": 3,
      "metadata": {
        "colab": {
          "base_uri": "https://localhost:8080/"
        },
        "id": "eUHkd7NASYEq",
        "outputId": "f15bc13c-d03f-4709-cd4f-229a905dcec3"
      },
      "outputs": [
        {
          "name": "stdout",
          "output_type": "stream",
          "text": [
            "[['skinnerua', 'a-00'], ['ischia', 'a-00'], ['daniamurashov', 'adivanov2009'], ['nik221107', 'adivanov2009'], ['capa_jr', 'daniel_likes_chess']]\n"
          ]
        }
      ],
      "source": [
        "import numpy as np\n",
        "\n",
        "uniqueppl = white_ids.tolist()\n",
        "uniqueppl.extend(black_ids.tolist())\n",
        "\n",
        "uppl = np.array(list(set(uniqueppl)))#set of unique people\n",
        "\n",
        "n_players = len(uppl)\n",
        "\n",
        "# reformat gamesplayed -> winner first, loser second\n",
        "gamesplayed = []\n",
        "for game in range(len(df)):\n",
        "    white_id = df.iloc[game].white_id\n",
        "    black_id = df.iloc[game].black_id\n",
        "\n",
        "    if df.iloc[game].winner == \"white\":\n",
        "        gamesplayed.append([white_id, black_id])\n",
        "    if df.iloc[game].winner == \"black\":\n",
        "        gamesplayed.append([black_id, white_id])\n",
        "\n",
        "print(gamesplayed[0:5])"
      ]
    },
    {
      "cell_type": "code",
      "execution_count": 4,
      "metadata": {
        "colab": {
          "base_uri": "https://localhost:8080/"
        },
        "id": "p7OcVygUfIMS",
        "outputId": "b449817f-d5bc-414a-9373-87dfb32aa4ff"
      },
      "outputs": [
        {
          "name": "stderr",
          "output_type": "stream",
          "text": [
            "WARNING (pytensor.configdefaults): g++ not available, if using conda: `conda install m2w64-toolchain`\n",
            "WARNING (pytensor.configdefaults): g++ not detected!  PyTensor will be unable to compile C-implementations and will default to Python. Performance may be severely degraded. To remove this warning, set PyTensor flags cxx to an empty string.\n",
            "WARNING (pytensor.tensor.blas): Using NumPy C-API based implementation for BLAS functions.\n"
          ]
        },
        {
          "name": "stdout",
          "output_type": "stream",
          "text": [
            "13179\n",
            "13179\n",
            "15436\n"
          ]
        },
        {
          "name": "stderr",
          "output_type": "stream",
          "text": [
            "C:\\Users\\micha\\AppData\\Local\\Packages\\PythonSoftwareFoundation.Python.3.12_qbz5n2kfra8p0\\LocalCache\\local-packages\\Python312\\site-packages\\tqdm\\auto.py:21: TqdmWarning: IProgress not found. Please update jupyter and ipywidgets. See https://ipywidgets.readthedocs.io/en/stable/user_install.html\n",
            "  from .autonotebook import tqdm as notebook_tqdm\n",
            "Compiling.. :   0%|          | 0/2000 [00:00<?, ?it/s]\n",
            "\u001b[A\n",
            "\u001b[A\n",
            "\n",
            "\u001b[A\u001b[A\n",
            "\n",
            "\u001b[A\u001b[A\n",
            "\u001b[A\n",
            "\n",
            "Running chain 0:   0%|          | 0/2000 [00:06<?, ?it/s]\n",
            "\n",
            "Running chain 0:   5%|▌         | 100/2000 [00:32<08:04,  3.92it/s]\n",
            "\n",
            "Running chain 0:  10%|█         | 200/2000 [00:38<04:21,  6.88it/s]\n",
            "\u001b[A\n",
            "\n",
            "Running chain 0:  15%|█▌        | 300/2000 [00:44<03:00,  9.44it/s]\n",
            "\u001b[A\n",
            "\n",
            "Running chain 0:  20%|██        | 400/2000 [00:51<02:25, 11.03it/s]\n",
            "\u001b[A\n",
            "\n",
            "Running chain 0:  25%|██▌       | 500/2000 [00:58<02:02, 12.25it/s]\n",
            "\u001b[A\n",
            "\n",
            "Running chain 0:  30%|███       | 600/2000 [01:04<01:46, 13.12it/s]\n",
            "\u001b[A\n",
            "\n",
            "Running chain 0:  35%|███▌      | 700/2000 [01:11<01:35, 13.61it/s]\n",
            "\u001b[A\n",
            "\n",
            "Running chain 0:  40%|████      | 800/2000 [01:16<01:18, 15.35it/s]\n",
            "\u001b[A\n",
            "\n",
            "Running chain 0:  45%|████▌     | 900/2000 [01:21<01:06, 16.65it/s]\n",
            "\n",
            "\u001b[A\u001b[A\n",
            "Running chain 0:  50%|█████     | 1000/2000 [01:27<01:00, 16.47it/s]\n",
            "\n",
            "\u001b[A\u001b[A\n",
            "Running chain 0:  55%|█████▌    | 1100/2000 [01:32<00:51, 17.57it/s]\n",
            "\n",
            "\u001b[A\u001b[A\n",
            "Running chain 0:  60%|██████    | 1200/2000 [01:36<00:43, 18.58it/s]\n",
            "\n",
            "\u001b[A\u001b[A\n",
            "Running chain 0:  65%|██████▌   | 1300/2000 [01:41<00:37, 18.84it/s]\n",
            "\n",
            "\u001b[A\u001b[A\n",
            "Running chain 0:  70%|███████   | 1400/2000 [01:47<00:31, 18.81it/s]\n",
            "\n",
            "Running chain 0:  75%|███████▌  | 1500/2000 [01:52<00:25, 19.42it/s]\n",
            "\u001b[A\n",
            "\n",
            "Running chain 0:  80%|████████  | 1600/2000 [01:56<00:20, 19.88it/s]\n",
            "\u001b[A\n",
            "\n",
            "Running chain 0:  85%|████████▌ | 1700/2000 [02:01<00:14, 20.19it/s]\n",
            "\u001b[A\n",
            "\n",
            "Running chain 0:  90%|█████████ | 1800/2000 [02:06<00:09, 20.61it/s]\n",
            "\u001b[A\n",
            "\n",
            "Running chain 0:  95%|█████████▌| 1900/2000 [02:10<00:04, 20.95it/s]\n",
            "\u001b[A\n",
            "\n",
            "Running chain 0: 100%|██████████| 2000/2000 [02:15<00:00, 21.66it/s]\n",
            "\u001b[A\n",
            "\u001b[A\n",
            "Running chain 0: 100%|██████████| 2000/2000 [02:21<00:00, 14.11it/s]\n",
            "Running chain 1: 100%|██████████| 2000/2000 [02:21<00:00, 14.11it/s]\n",
            "Running chain 2: 100%|██████████| 2000/2000 [02:21<00:00, 14.11it/s]\n",
            "Running chain 3: 100%|██████████| 2000/2000 [02:21<00:00, 14.11it/s]\n",
            "The rhat statistic is larger than 1.01 for some parameters. This indicates problems during sampling. See https://arxiv.org/abs/1903.08008 for details\n"
          ]
        }
      ],
      "source": [
        "import numpy as np\n",
        "import pymc as pm\n",
        "\n",
        "# convert str to int\n",
        "player_to_id = {player: i for i, player in enumerate(uppl)}\n",
        "player_ids = np.array([[player_to_id[winner], player_to_id[loser]] for winner, loser in gamesplayed])\n",
        "\n",
        "# check sizes -> something is wrong here. tracce has more players than uppl\n",
        "print(len(uppl))\n",
        "print(len(player_to_id))\n",
        "print(len(player_ids))\n",
        "\n",
        "with pm.Model() as model:\n",
        "    player_sd = pm.HalfNormal(\"player_sd\", sigma=1.0)\n",
        "    player_skills_raw = pm.Normal(\n",
        "        \"player_skills_raw\", 0.0, sigma=1.0, shape=(n_players,)\n",
        "    )\n",
        "    player_skills = pm.Deterministic(\"player_skills\", player_skills_raw * player_sd)\n",
        "\n",
        "    winner_ids = player_ids[:, 0]\n",
        "    loser_ids = player_ids[:, 1]\n",
        "\n",
        "    logit_skills = player_skills[winner_ids] - player_skills[loser_ids]\n",
        "    lik = pm.Bernoulli(\n",
        "        \"win_lik\", logit_p=logit_skills, observed=np.ones(winner_ids.shape[0])\n",
        "    )\n",
        "\n",
        "    # Sample using the numpyro backend for JAX\n",
        "    trace = pm.sample(1000, tune=1000, chains=4, cores=1, nuts_sampler='numpyro', random_seed=42)"
      ]
    },
    {
      "cell_type": "code",
      "execution_count": 5,
      "metadata": {
        "id": "GkiZOLH1noCO"
      },
      "outputs": [],
      "source": [
        "import arviz as az\n",
        "\n",
        "summary = az.summary(trace, kind=\"stats\")"
      ]
    },
    {
      "cell_type": "code",
      "execution_count": 6,
      "metadata": {
        "colab": {
          "base_uri": "https://localhost:8080/"
        },
        "id": "-UvDVW7SqseD",
        "outputId": "b67c3b1e-b088-4615-e39d-e5f083441113"
      },
      "outputs": [
        {
          "name": "stdout",
          "output_type": "stream",
          "text": [
            "           Player Name  Skill Mean  Skill SD\n",
            "8139         chesscarl       3.370     0.653\n",
            "630           siindbad       3.058     0.778\n",
            "4969         smilsydov       3.002     0.677\n",
            "12204         mmichael       2.875     0.802\n",
            "10262      amir2002zzz       2.808     0.816\n",
            "...                ...         ...       ...\n",
            "7791   thebestofthebad      -2.423     0.955\n",
            "10523       andreschil      -2.530     0.632\n",
            "12578         ghaffari      -2.561     0.702\n",
            "5962          mccheese      -2.927     0.802\n",
            "7752        sveenemand      -3.002     0.790\n",
            "\n",
            "[13179 rows x 3 columns]\n"
          ]
        }
      ],
      "source": [
        "# filter out raw player skills (useless)\n",
        "player_skills_summary = summary[~summary.index.str.startswith('player_skills_raw')]\n",
        "player_skills_summary = player_skills_summary[1:]\n",
        "\n",
        "player_means = player_skills_summary['mean']\n",
        "player_sds = player_skills_summary['sd']\n",
        "\n",
        "# Create df\n",
        "player_skills_df = pd.DataFrame({\n",
        "    'Player Name': uppl,\n",
        "    'Skill Mean': player_means.values,\n",
        "    'Skill SD': player_sds.values\n",
        "})\n",
        "\n",
        "sorted_player_skills_df = player_skills_df.sort_values(by='Skill Mean', ascending=False)\n",
        "print(sorted_player_skills_df)\n"
      ]
    },
    {
      "cell_type": "code",
      "execution_count": 7,
      "metadata": {
        "colab": {
          "base_uri": "https://localhost:8080/"
        },
        "id": "HJCAYj2fMbD-",
        "outputId": "940c1d8a-7034-4016-fa0a-290bbdb1946d"
      },
      "outputs": [
        {
          "name": "stdout",
          "output_type": "stream",
          "text": [
            "               Player Name  Elo Rating\n",
            "0              blitzbullet     2622.00\n",
            "1                 avill050     2588.00\n",
            "2               teatime007     2575.25\n",
            "3                   tree33     2540.00\n",
            "4                 lexisvar     2513.00\n",
            "...                    ...         ...\n",
            "13174           canabidiol      802.50\n",
            "13175          epicchess66      795.50\n",
            "13176              natalua      793.00\n",
            "13177             hortense      791.00\n",
            "13178  ragnarlothbrook_spb      784.00\n",
            "\n",
            "[13179 rows x 2 columns]\n"
          ]
        }
      ],
      "source": [
        "# Concatenate white_id and black_id columns to get all player ids\n",
        "all_player_ids = pd.concat([df['white_id'], df['black_id']]).unique()\n",
        "\n",
        "player_avg_ratings = {}\n",
        "\n",
        "for player_id in all_player_ids:\n",
        "    # Get ratings for the current player from both white and black ratings\n",
        "    white_ratings = df.loc[df['white_id'] == player_id, 'white_rating']\n",
        "    black_ratings = df.loc[df['black_id'] == player_id, 'black_rating']\n",
        "    # Calculate the average rating for the player\n",
        "    avg_rating = pd.concat([white_ratings, black_ratings]).mean()\n",
        "    # Store the average rating for the player\n",
        "    player_avg_ratings[player_id] = avg_rating\n",
        "\n",
        "sorted_player_avg_ratings = sorted(player_avg_ratings.items(), key=lambda x: x[1], reverse=True)\n",
        "\n",
        "avg_rating_df = pd.DataFrame(sorted_player_avg_ratings, columns=['Player Name', 'Elo Rating'])\n",
        "\n",
        "print(avg_rating_df)\n"
      ]
    },
    {
      "cell_type": "code",
      "execution_count": 8,
      "metadata": {
        "colab": {
          "base_uri": "https://localhost:8080/"
        },
        "id": "KkmxNu2tPNYp",
        "outputId": "735496b4-89db-4dce-8565-490e3fa3f2d8"
      },
      "outputs": [
        {
          "name": "stdout",
          "output_type": "stream",
          "text": [
            "Spearman Rank Correlation Coefficient for All Players: 0.19463985842664727\n"
          ]
        }
      ],
      "source": [
        "from scipy.stats import spearmanr\n",
        "\n",
        "# Get actual and predicted rankings for all players\n",
        "actual_rankings_all = []\n",
        "predicted_rankings_all = []\n",
        "\n",
        "for i, player_name in enumerate(sorted_player_skills_df['Player Name']):\n",
        "    actual_ranking = avg_rating_df.loc[avg_rating_df['Player Name'] == player_name].index[0]\n",
        "    actual_rankings_all.append(actual_ranking)\n",
        "    predicted_rankings_all.append(i)\n",
        "\n",
        "# Compute the Spearman rank correlation coefficient for all players\n",
        "spearman_corr_all, _ = spearmanr(predicted_rankings_all, actual_rankings_all)\n",
        "print(f\"Spearman Rank Correlation Coefficient for All Players: {spearman_corr_all}\")\n"
      ]
    }
  ],
  "metadata": {
    "accelerator": "GPU",
    "colab": {
      "gpuType": "T4",
      "provenance": []
    },
    "deepnote_execution_queue": [],
    "deepnote_notebook_id": "43a7e570a0884b65a0e61272aad4d6bf",
    "kernelspec": {
      "display_name": "Python 3",
      "name": "python3"
    },
    "language_info": {
      "codemirror_mode": {
        "name": "ipython",
        "version": 3
      },
      "file_extension": ".py",
      "mimetype": "text/x-python",
      "name": "python",
      "nbconvert_exporter": "python",
      "pygments_lexer": "ipython3",
      "version": "3.12.4"
    }
  },
  "nbformat": 4,
  "nbformat_minor": 0
}
