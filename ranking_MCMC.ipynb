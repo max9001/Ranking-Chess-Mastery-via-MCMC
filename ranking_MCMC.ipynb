{
  "cells": [
    {
      "cell_type": "code",
      "source": [
        "!pip install pymc\n",
        "!pip install numpyro\n",
        "!pip install aeppl\n",
        "!pip install jax"
      ],
      "metadata": {
        "collapsed": true,
        "id": "uViPQmnLRxej",
        "colab": {
          "base_uri": "https://localhost:8080/"
        },
        "outputId": "805eb799-0bde-4fa1-932b-1278977d1d75"
      },
      "execution_count": 1,
      "outputs": [
        {
          "output_type": "stream",
          "name": "stdout",
          "text": [
            "Requirement already satisfied: pymc in /usr/local/lib/python3.10/dist-packages (5.10.4)\n",
            "Requirement already satisfied: arviz>=0.13.0 in /usr/local/lib/python3.10/dist-packages (from pymc) (0.15.1)\n",
            "Requirement already satisfied: cachetools>=4.2.1 in /usr/local/lib/python3.10/dist-packages (from pymc) (5.3.3)\n",
            "Requirement already satisfied: cloudpickle in /usr/local/lib/python3.10/dist-packages (from pymc) (2.2.1)\n",
            "Requirement already satisfied: fastprogress>=0.2.0 in /usr/local/lib/python3.10/dist-packages (from pymc) (1.0.3)\n",
            "Requirement already satisfied: numpy>=1.15.0 in /usr/local/lib/python3.10/dist-packages (from pymc) (1.25.2)\n",
            "Requirement already satisfied: pandas>=0.24.0 in /usr/local/lib/python3.10/dist-packages (from pymc) (2.0.3)\n",
            "Requirement already satisfied: pytensor<2.19,>=2.18.1 in /usr/local/lib/python3.10/dist-packages (from pymc) (2.18.6)\n",
            "Requirement already satisfied: scipy>=1.4.1 in /usr/local/lib/python3.10/dist-packages (from pymc) (1.11.4)\n",
            "Requirement already satisfied: typing-extensions>=3.7.4 in /usr/local/lib/python3.10/dist-packages (from pymc) (4.12.1)\n",
            "Requirement already satisfied: setuptools>=60.0.0 in /usr/local/lib/python3.10/dist-packages (from arviz>=0.13.0->pymc) (67.7.2)\n",
            "Requirement already satisfied: matplotlib>=3.2 in /usr/local/lib/python3.10/dist-packages (from arviz>=0.13.0->pymc) (3.7.1)\n",
            "Requirement already satisfied: packaging in /usr/local/lib/python3.10/dist-packages (from arviz>=0.13.0->pymc) (24.0)\n",
            "Requirement already satisfied: xarray>=0.21.0 in /usr/local/lib/python3.10/dist-packages (from arviz>=0.13.0->pymc) (2023.7.0)\n",
            "Requirement already satisfied: h5netcdf>=1.0.2 in /usr/local/lib/python3.10/dist-packages (from arviz>=0.13.0->pymc) (1.3.0)\n",
            "Requirement already satisfied: xarray-einstats>=0.3 in /usr/local/lib/python3.10/dist-packages (from arviz>=0.13.0->pymc) (0.7.0)\n",
            "Requirement already satisfied: python-dateutil>=2.8.2 in /usr/local/lib/python3.10/dist-packages (from pandas>=0.24.0->pymc) (2.8.2)\n",
            "Requirement already satisfied: pytz>=2020.1 in /usr/local/lib/python3.10/dist-packages (from pandas>=0.24.0->pymc) (2023.4)\n",
            "Requirement already satisfied: tzdata>=2022.1 in /usr/local/lib/python3.10/dist-packages (from pandas>=0.24.0->pymc) (2024.1)\n",
            "Requirement already satisfied: filelock in /usr/local/lib/python3.10/dist-packages (from pytensor<2.19,>=2.18.1->pymc) (3.14.0)\n",
            "Requirement already satisfied: etuples in /usr/local/lib/python3.10/dist-packages (from pytensor<2.19,>=2.18.1->pymc) (0.3.9)\n",
            "Requirement already satisfied: logical-unification in /usr/local/lib/python3.10/dist-packages (from pytensor<2.19,>=2.18.1->pymc) (0.4.6)\n",
            "Requirement already satisfied: miniKanren in /usr/local/lib/python3.10/dist-packages (from pytensor<2.19,>=2.18.1->pymc) (1.0.3)\n",
            "Requirement already satisfied: cons in /usr/local/lib/python3.10/dist-packages (from pytensor<2.19,>=2.18.1->pymc) (0.4.6)\n",
            "Requirement already satisfied: h5py in /usr/local/lib/python3.10/dist-packages (from h5netcdf>=1.0.2->arviz>=0.13.0->pymc) (3.9.0)\n",
            "Requirement already satisfied: contourpy>=1.0.1 in /usr/local/lib/python3.10/dist-packages (from matplotlib>=3.2->arviz>=0.13.0->pymc) (1.2.1)\n",
            "Requirement already satisfied: cycler>=0.10 in /usr/local/lib/python3.10/dist-packages (from matplotlib>=3.2->arviz>=0.13.0->pymc) (0.12.1)\n",
            "Requirement already satisfied: fonttools>=4.22.0 in /usr/local/lib/python3.10/dist-packages (from matplotlib>=3.2->arviz>=0.13.0->pymc) (4.53.0)\n",
            "Requirement already satisfied: kiwisolver>=1.0.1 in /usr/local/lib/python3.10/dist-packages (from matplotlib>=3.2->arviz>=0.13.0->pymc) (1.4.5)\n",
            "Requirement already satisfied: pillow>=6.2.0 in /usr/local/lib/python3.10/dist-packages (from matplotlib>=3.2->arviz>=0.13.0->pymc) (9.4.0)\n",
            "Requirement already satisfied: pyparsing>=2.3.1 in /usr/local/lib/python3.10/dist-packages (from matplotlib>=3.2->arviz>=0.13.0->pymc) (3.1.2)\n",
            "Requirement already satisfied: six>=1.5 in /usr/local/lib/python3.10/dist-packages (from python-dateutil>=2.8.2->pandas>=0.24.0->pymc) (1.16.0)\n",
            "Requirement already satisfied: toolz in /usr/local/lib/python3.10/dist-packages (from logical-unification->pytensor<2.19,>=2.18.1->pymc) (0.12.1)\n",
            "Requirement already satisfied: multipledispatch in /usr/local/lib/python3.10/dist-packages (from logical-unification->pytensor<2.19,>=2.18.1->pymc) (1.0.0)\n",
            "Collecting numpyro\n",
            "  Downloading numpyro-0.15.0-py3-none-any.whl (345 kB)\n",
            "\u001b[2K     \u001b[90m━━━━━━━━━━━━━━━━━━━━━━━━━━━━━━━━━━━━━━━━\u001b[0m \u001b[32m345.7/345.7 kB\u001b[0m \u001b[31m4.6 MB/s\u001b[0m eta \u001b[36m0:00:00\u001b[0m\n",
            "\u001b[?25hRequirement already satisfied: jax>=0.4.14 in /usr/local/lib/python3.10/dist-packages (from numpyro) (0.4.26)\n",
            "Requirement already satisfied: jaxlib>=0.4.14 in /usr/local/lib/python3.10/dist-packages (from numpyro) (0.4.26+cuda12.cudnn89)\n",
            "Requirement already satisfied: multipledispatch in /usr/local/lib/python3.10/dist-packages (from numpyro) (1.0.0)\n",
            "Requirement already satisfied: numpy in /usr/local/lib/python3.10/dist-packages (from numpyro) (1.25.2)\n",
            "Requirement already satisfied: tqdm in /usr/local/lib/python3.10/dist-packages (from numpyro) (4.66.4)\n",
            "Requirement already satisfied: ml-dtypes>=0.2.0 in /usr/local/lib/python3.10/dist-packages (from jax>=0.4.14->numpyro) (0.2.0)\n",
            "Requirement already satisfied: opt-einsum in /usr/local/lib/python3.10/dist-packages (from jax>=0.4.14->numpyro) (3.3.0)\n",
            "Requirement already satisfied: scipy>=1.9 in /usr/local/lib/python3.10/dist-packages (from jax>=0.4.14->numpyro) (1.11.4)\n",
            "Installing collected packages: numpyro\n",
            "Successfully installed numpyro-0.15.0\n",
            "Collecting aeppl\n",
            "  Downloading aeppl-0.1.5-py3-none-any.whl (54 kB)\n",
            "\u001b[2K     \u001b[90m━━━━━━━━━━━━━━━━━━━━━━━━━━━━━━━━━━━━━━━━\u001b[0m \u001b[32m54.4/54.4 kB\u001b[0m \u001b[31m2.6 MB/s\u001b[0m eta \u001b[36m0:00:00\u001b[0m\n",
            "\u001b[?25hRequirement already satisfied: numpy>=1.18.1 in /usr/local/lib/python3.10/dist-packages (from aeppl) (1.25.2)\n",
            "Requirement already satisfied: scipy>=1.4.0 in /usr/local/lib/python3.10/dist-packages (from aeppl) (1.11.4)\n",
            "Collecting aesara>=2.8.13 (from aeppl)\n",
            "  Downloading aesara-2.9.3-py3-none-any.whl (1.4 MB)\n",
            "\u001b[2K     \u001b[90m━━━━━━━━━━━━━━━━━━━━━━━━━━━━━━━━━━━━━━━━\u001b[0m \u001b[32m1.4/1.4 MB\u001b[0m \u001b[31m11.2 MB/s\u001b[0m eta \u001b[36m0:00:00\u001b[0m\n",
            "\u001b[?25hRequirement already satisfied: typing-extensions in /usr/local/lib/python3.10/dist-packages (from aeppl) (4.12.1)\n",
            "Requirement already satisfied: cons in /usr/local/lib/python3.10/dist-packages (from aesara>=2.8.13->aeppl) (0.4.6)\n",
            "Requirement already satisfied: etuples in /usr/local/lib/python3.10/dist-packages (from aesara>=2.8.13->aeppl) (0.3.9)\n",
            "Requirement already satisfied: filelock in /usr/local/lib/python3.10/dist-packages (from aesara>=2.8.13->aeppl) (3.14.0)\n",
            "Requirement already satisfied: logical-unification in /usr/local/lib/python3.10/dist-packages (from aesara>=2.8.13->aeppl) (0.4.6)\n",
            "Requirement already satisfied: minikanren in /usr/local/lib/python3.10/dist-packages (from aesara>=2.8.13->aeppl) (1.0.3)\n",
            "Requirement already satisfied: setuptools>=48.0.0 in /usr/local/lib/python3.10/dist-packages (from aesara>=2.8.13->aeppl) (67.7.2)\n",
            "Requirement already satisfied: toolz in /usr/local/lib/python3.10/dist-packages (from logical-unification->aesara>=2.8.13->aeppl) (0.12.1)\n",
            "Requirement already satisfied: multipledispatch in /usr/local/lib/python3.10/dist-packages (from logical-unification->aesara>=2.8.13->aeppl) (1.0.0)\n",
            "Installing collected packages: aesara, aeppl\n",
            "Successfully installed aeppl-0.1.5 aesara-2.9.3\n",
            "Requirement already satisfied: jax in /usr/local/lib/python3.10/dist-packages (0.4.26)\n",
            "Requirement already satisfied: ml-dtypes>=0.2.0 in /usr/local/lib/python3.10/dist-packages (from jax) (0.2.0)\n",
            "Requirement already satisfied: numpy>=1.22 in /usr/local/lib/python3.10/dist-packages (from jax) (1.25.2)\n",
            "Requirement already satisfied: opt-einsum in /usr/local/lib/python3.10/dist-packages (from jax) (3.3.0)\n",
            "Requirement already satisfied: scipy>=1.9 in /usr/local/lib/python3.10/dist-packages (from jax) (1.11.4)\n"
          ]
        }
      ]
    },
    {
      "cell_type": "code",
      "source": [
        "from google.colab import drive\n",
        "drive.mount('/content/drive')"
      ],
      "metadata": {
        "colab": {
          "base_uri": "https://localhost:8080/"
        },
        "id": "uWC65FteSCuC",
        "outputId": "f35b453e-5478-42ba-fb14-42b23463b022"
      },
      "execution_count": 2,
      "outputs": [
        {
          "output_type": "stream",
          "name": "stdout",
          "text": [
            "Mounted at /content/drive\n"
          ]
        }
      ]
    },
    {
      "cell_type": "code",
      "source": [
        "%cd drive\n",
        "%cd MyDrive\n",
        "%cd cs179"
      ],
      "metadata": {
        "colab": {
          "base_uri": "https://localhost:8080/"
        },
        "id": "uBRMXtU9SO24",
        "outputId": "7f6ff3dd-87a4-4133-ee4d-ed2e10b7ce06"
      },
      "execution_count": 3,
      "outputs": [
        {
          "output_type": "stream",
          "name": "stdout",
          "text": [
            "/content/drive\n",
            "/content/drive/MyDrive\n",
            "/content/drive/MyDrive/cs179\n"
          ]
        }
      ]
    },
    {
      "cell_type": "code",
      "source": [
        "import pandas as pd\n",
        "\n",
        "csv_file_path = '/drive/MyDrive/cs179/games.csv'\n",
        "\n",
        "#getting info\n",
        "df = pd.read_csv('games.csv')\n",
        "\n",
        "#print(df['white_id'])\n",
        "white_ids = df['white_id']\n",
        "black_ids =  df[\"black_id\"]\n",
        "winners = df[\"winner\"]\n",
        "\n",
        "print(white_ids[:5])"
      ],
      "metadata": {
        "colab": {
          "base_uri": "https://localhost:8080/"
        },
        "id": "k7bTBmt2SU2Y",
        "outputId": "f04a2f84-2253-46c9-b3ed-6d9664888b46"
      },
      "execution_count": 4,
      "outputs": [
        {
          "output_type": "stream",
          "name": "stdout",
          "text": [
            "0         bourgris\n",
            "1             a-00\n",
            "2           ischia\n",
            "3    daniamurashov\n",
            "4        nik221107\n",
            "Name: white_id, dtype: object\n"
          ]
        }
      ]
    },
    {
      "cell_type": "code",
      "source": [
        "import numpy as np\n",
        "\n",
        "uniqueppl = white_ids.tolist()\n",
        "uniqueppl.extend(black_ids.tolist())\n",
        "\n",
        "uppl = np.array(list(set(uniqueppl)))#set of unique people\n",
        "\n",
        "n_players = len(uppl)\n",
        "\n",
        "# reformat gamesplayed -> winner first, loser second\n",
        "gamesplayed = []\n",
        "for game in range(len(df)):\n",
        "    white_id = df.iloc[game].white_id\n",
        "    black_id = df.iloc[game].black_id\n",
        "\n",
        "    if df.iloc[game].winner == \"white\":\n",
        "        gamesplayed.append([white_id, black_id])\n",
        "    if df.iloc[game].winner == \"black\":\n",
        "        gamesplayed.append([black_id, white_id])\n",
        "\n",
        "print(gamesplayed[0:5])"
      ],
      "metadata": {
        "colab": {
          "base_uri": "https://localhost:8080/"
        },
        "id": "eUHkd7NASYEq",
        "outputId": "f15bc13c-d03f-4709-cd4f-229a905dcec3"
      },
      "execution_count": 5,
      "outputs": [
        {
          "output_type": "stream",
          "name": "stdout",
          "text": [
            "[['bourgris', 'a-00'], ['skinnerua', 'a-00'], ['ischia', 'a-00'], ['daniamurashov', 'adivanov2009'], ['nik221107', 'adivanov2009']]\n"
          ]
        }
      ]
    },
    {
      "cell_type": "code",
      "source": [
        "import numpy as np\n",
        "import pymc as pm\n",
        "\n",
        "# convert str to int\n",
        "player_to_id = {player: i for i, player in enumerate(uppl)}\n",
        "player_ids = np.array([[player_to_id[winner], player_to_id[loser]] for winner, loser in gamesplayed])\n",
        "\n",
        "# check sizes -> something is wrong here. tracce has more players than uppl\n",
        "print(len(uppl))\n",
        "print(len(player_to_id))\n",
        "print(len(player_ids))\n",
        "\n",
        "with pm.Model() as model:\n",
        "    player_sd = pm.HalfNormal(\"player_sd\", sigma=1.0)\n",
        "    player_skills_raw = pm.Normal(\n",
        "        \"player_skills_raw\", 0.0, sigma=1.0, shape=(n_players,)\n",
        "    )\n",
        "    player_skills = pm.Deterministic(\"player_skills\", player_skills_raw * player_sd)\n",
        "\n",
        "    winner_ids = player_ids[:, 0]\n",
        "    loser_ids = player_ids[:, 1]\n",
        "\n",
        "    logit_skills = player_skills[winner_ids] - player_skills[loser_ids]\n",
        "    lik = pm.Bernoulli(\n",
        "        \"win_lik\", logit_p=logit_skills, observed=np.ones(winner_ids.shape[0])\n",
        "    )\n",
        "\n",
        "    # Sample using the numpyro backend for JAX\n",
        "    trace = pm.sample(1000, tune=1000, chains=4, cores=1, nuts_sampler='numpyro', random_seed=42)"
      ],
      "metadata": {
        "colab": {
          "base_uri": "https://localhost:8080/"
        },
        "id": "p7OcVygUfIMS",
        "outputId": "b449817f-d5bc-414a-9373-87dfb32aa4ff"
      },
      "execution_count": 8,
      "outputs": [
        {
          "output_type": "stream",
          "name": "stdout",
          "text": [
            "15635\n",
            "15635\n",
            "19108\n"
          ]
        },
        {
          "output_type": "stream",
          "name": "stderr",
          "text": [
            "/usr/local/lib/python3.10/dist-packages/pymc/sampling/jax.py:687: UserWarning: There are not enough devices to run parallel chains: expected 4 but got 1. Chains will be drawn sequentially. If you are running MCMC in CPU, consider using `numpyro.set_host_device_count(4)` at the beginning of your program. You can double-check how many devices are available in your system using `jax.local_device_count()`.\n",
            "  pmap_numpyro = MCMC(\n",
            "sample: 100%|██████████| 2000/2000 [00:46<00:00, 43.12it/s, 31 steps of size 1.16e-01. acc. prob=0.86]\n",
            "sample: 100%|██████████| 2000/2000 [00:42<00:00, 47.50it/s, 31 steps of size 1.15e-01. acc. prob=0.86]\n",
            "sample: 100%|██████████| 2000/2000 [00:43<00:00, 46.44it/s, 31 steps of size 1.11e-01. acc. prob=0.88]\n",
            "sample: 100%|██████████| 2000/2000 [00:45<00:00, 44.22it/s, 31 steps of size 1.27e-01. acc. prob=0.84]\n"
          ]
        }
      ]
    },
    {
      "cell_type": "code",
      "source": [
        "import arviz as az\n",
        "\n",
        "summary = az.summary(trace, kind=\"stats\")"
      ],
      "metadata": {
        "id": "GkiZOLH1noCO"
      },
      "execution_count": 9,
      "outputs": []
    },
    {
      "cell_type": "code",
      "source": [
        "# filter out raw player skills (useless)\n",
        "player_skills_summary = summary[~summary.index.str.startswith('player_skills_raw')]\n",
        "player_skills_summary = player_skills_summary[1:]\n",
        "\n",
        "player_means = player_skills_summary['mean']\n",
        "player_sds = player_skills_summary['sd']\n",
        "\n",
        "# Create df\n",
        "player_skills_df = pd.DataFrame({\n",
        "    'Player Name': uppl,\n",
        "    'Skill Mean': player_means.values,\n",
        "    'Skill SD': player_sds.values\n",
        "})\n",
        "\n",
        "sorted_player_skills_df = player_skills_df.sort_values(by='Skill Mean', ascending=False)\n",
        "print(sorted_player_skills_df)\n"
      ],
      "metadata": {
        "colab": {
          "base_uri": "https://localhost:8080/"
        },
        "id": "-UvDVW7SqseD",
        "outputId": "b67c3b1e-b088-4615-e39d-e5f083441113"
      },
      "execution_count": 10,
      "outputs": [
        {
          "output_type": "stream",
          "name": "stdout",
          "text": [
            "               Player Name  Skill Mean  Skill SD\n",
            "2847             chesscarl       3.476     0.664\n",
            "3922              siindbad       3.250     0.803\n",
            "2719              mmichael       3.091     0.840\n",
            "7857           amir2002zzz       2.962     0.855\n",
            "14387           steelviper       2.871     0.853\n",
            "...                    ...         ...       ...\n",
            "15419             ghaffari      -2.763     0.720\n",
            "10588           sveenemand      -2.776     0.680\n",
            "322               mccheese      -2.911     0.722\n",
            "6262   josephelbouhessaini      -2.920     0.890\n",
            "9220            stellanova      -3.136     0.812\n",
            "\n",
            "[15635 rows x 3 columns]\n"
          ]
        }
      ]
    },
    {
      "cell_type": "code",
      "source": [
        "# Concatenate white_id and black_id columns to get all player ids\n",
        "all_player_ids = pd.concat([df['white_id'], df['black_id']]).unique()\n",
        "\n",
        "player_avg_ratings = {}\n",
        "\n",
        "for player_id in all_player_ids:\n",
        "    # Get ratings for the current player from both white and black ratings\n",
        "    white_ratings = df.loc[df['white_id'] == player_id, 'white_rating']\n",
        "    black_ratings = df.loc[df['black_id'] == player_id, 'black_rating']\n",
        "    # Calculate the average rating for the player\n",
        "    avg_rating = pd.concat([white_ratings, black_ratings]).mean()\n",
        "    # Store the average rating for the player\n",
        "    player_avg_ratings[player_id] = avg_rating\n",
        "\n",
        "sorted_player_avg_ratings = sorted(player_avg_ratings.items(), key=lambda x: x[1], reverse=True)\n",
        "\n",
        "avg_rating_df = pd.DataFrame(sorted_player_avg_ratings, columns=['Player Name', 'Elo Rating'])\n",
        "\n",
        "print(avg_rating_df)\n"
      ],
      "metadata": {
        "colab": {
          "base_uri": "https://localhost:8080/"
        },
        "id": "HJCAYj2fMbD-",
        "outputId": "940c1d8a-7034-4016-fa0a-290bbdb1946d"
      },
      "execution_count": 11,
      "outputs": [
        {
          "output_type": "stream",
          "name": "stdout",
          "text": [
            "               Player Name   Elo Rating\n",
            "0               justicebot  2711.500000\n",
            "1              blitzbullet  2622.000000\n",
            "2                lance5500  2617.727273\n",
            "3                 avill050  2588.000000\n",
            "4      shahoviy_komentator  2586.000000\n",
            "...                    ...          ...\n",
            "15630          epicchess66   795.500000\n",
            "15631     christinebitonti   795.000000\n",
            "15632              natalua   793.000000\n",
            "15633             hortense   791.000000\n",
            "15634  ragnarlothbrook_spb   784.000000\n",
            "\n",
            "[15635 rows x 2 columns]\n"
          ]
        }
      ]
    },
    {
      "cell_type": "code",
      "source": [
        "from scipy.stats import spearmanr\n",
        "\n",
        "# Get actual and predicted rankings for all players\n",
        "actual_rankings_all = []\n",
        "predicted_rankings_all = []\n",
        "\n",
        "for i, player_name in enumerate(sorted_player_skills_df['Player Name']):\n",
        "    actual_ranking = avg_rating_df.loc[avg_rating_df['Player Name'] == player_name].index[0]\n",
        "    actual_rankings_all.append(actual_ranking)\n",
        "    predicted_rankings_all.append(i)\n",
        "\n",
        "# Compute the Spearman rank correlation coefficient for all players\n",
        "spearman_corr_all, _ = spearmanr(predicted_rankings_all, actual_rankings_all)\n",
        "print(f\"Spearman Rank Correlation Coefficient for All Players: {spearman_corr_all}\")\n"
      ],
      "metadata": {
        "colab": {
          "base_uri": "https://localhost:8080/"
        },
        "id": "KkmxNu2tPNYp",
        "outputId": "735496b4-89db-4dce-8565-490e3fa3f2d8"
      },
      "execution_count": 12,
      "outputs": [
        {
          "output_type": "stream",
          "name": "stdout",
          "text": [
            "Spearman Rank Correlation Coefficient for All Players: 0.20530417334104267\n"
          ]
        }
      ]
    }
  ],
  "nbformat": 4,
  "nbformat_minor": 0,
  "metadata": {
    "deepnote_notebook_id": "43a7e570a0884b65a0e61272aad4d6bf",
    "deepnote_execution_queue": [],
    "colab": {
      "provenance": [],
      "gpuType": "T4"
    },
    "language_info": {
      "name": "python"
    },
    "kernelspec": {
      "name": "python3",
      "display_name": "Python 3"
    },
    "accelerator": "GPU"
  }
}