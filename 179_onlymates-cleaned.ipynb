{
  "nbformat": 4,
  "nbformat_minor": 0,
  "metadata": {
    "colab": {
      "provenance": []
    },
    "kernelspec": {
      "name": "python3",
      "display_name": "Python 3"
    },
    "language_info": {
      "name": "python"
    },
    "widgets": {
      "application/vnd.jupyter.widget-state+json": {
        "3542e0469ace4d0aa3283d36b47e45b7": {
          "model_module": "@jupyter-widgets/controls",
          "model_name": "HBoxModel",
          "model_module_version": "1.5.0",
          "state": {
            "_dom_classes": [],
            "_model_module": "@jupyter-widgets/controls",
            "_model_module_version": "1.5.0",
            "_model_name": "HBoxModel",
            "_view_count": null,
            "_view_module": "@jupyter-widgets/controls",
            "_view_module_version": "1.5.0",
            "_view_name": "HBoxView",
            "box_style": "",
            "children": [
              "IPY_MODEL_a783b6170f014d12810e52b542ee6b6b",
              "IPY_MODEL_a573163fbb7044d08f1a6ccbdd0c29c5",
              "IPY_MODEL_022d7f15d96046bfbb7789b2404eea81"
            ],
            "layout": "IPY_MODEL_d90affb11d40492a871f84a653857415"
          }
        },
        "a783b6170f014d12810e52b542ee6b6b": {
          "model_module": "@jupyter-widgets/controls",
          "model_name": "HTMLModel",
          "model_module_version": "1.5.0",
          "state": {
            "_dom_classes": [],
            "_model_module": "@jupyter-widgets/controls",
            "_model_module_version": "1.5.0",
            "_model_name": "HTMLModel",
            "_view_count": null,
            "_view_module": "@jupyter-widgets/controls",
            "_view_module_version": "1.5.0",
            "_view_name": "HTMLView",
            "description": "",
            "description_tooltip": null,
            "layout": "IPY_MODEL_b8d8d36fa4964573876f537765ce7487",
            "placeholder": "​",
            "style": "IPY_MODEL_e3cdaa389b3340f9aa3c8fc256ae9324",
            "value": "Running chain 0: 100%"
          }
        },
        "a573163fbb7044d08f1a6ccbdd0c29c5": {
          "model_module": "@jupyter-widgets/controls",
          "model_name": "FloatProgressModel",
          "model_module_version": "1.5.0",
          "state": {
            "_dom_classes": [],
            "_model_module": "@jupyter-widgets/controls",
            "_model_module_version": "1.5.0",
            "_model_name": "FloatProgressModel",
            "_view_count": null,
            "_view_module": "@jupyter-widgets/controls",
            "_view_module_version": "1.5.0",
            "_view_name": "ProgressView",
            "bar_style": "success",
            "description": "",
            "description_tooltip": null,
            "layout": "IPY_MODEL_b37aeca4c0224bb38ec30bc0b1e1c295",
            "max": 5000,
            "min": 0,
            "orientation": "horizontal",
            "style": "IPY_MODEL_e17be112743543bc9a3773d08ed67f6c",
            "value": 5000
          }
        },
        "022d7f15d96046bfbb7789b2404eea81": {
          "model_module": "@jupyter-widgets/controls",
          "model_name": "HTMLModel",
          "model_module_version": "1.5.0",
          "state": {
            "_dom_classes": [],
            "_model_module": "@jupyter-widgets/controls",
            "_model_module_version": "1.5.0",
            "_model_name": "HTMLModel",
            "_view_count": null,
            "_view_module": "@jupyter-widgets/controls",
            "_view_module_version": "1.5.0",
            "_view_name": "HTMLView",
            "description": "",
            "description_tooltip": null,
            "layout": "IPY_MODEL_a78d2f29c57e4e688f96d826189397f7",
            "placeholder": "​",
            "style": "IPY_MODEL_e82376662f2f4a99b3d589a469b85aae",
            "value": " 5000/5000 [04:43&lt;00:00, 20.05it/s]"
          }
        },
        "d90affb11d40492a871f84a653857415": {
          "model_module": "@jupyter-widgets/base",
          "model_name": "LayoutModel",
          "model_module_version": "1.2.0",
          "state": {
            "_model_module": "@jupyter-widgets/base",
            "_model_module_version": "1.2.0",
            "_model_name": "LayoutModel",
            "_view_count": null,
            "_view_module": "@jupyter-widgets/base",
            "_view_module_version": "1.2.0",
            "_view_name": "LayoutView",
            "align_content": null,
            "align_items": null,
            "align_self": null,
            "border": null,
            "bottom": null,
            "display": null,
            "flex": null,
            "flex_flow": null,
            "grid_area": null,
            "grid_auto_columns": null,
            "grid_auto_flow": null,
            "grid_auto_rows": null,
            "grid_column": null,
            "grid_gap": null,
            "grid_row": null,
            "grid_template_areas": null,
            "grid_template_columns": null,
            "grid_template_rows": null,
            "height": null,
            "justify_content": null,
            "justify_items": null,
            "left": null,
            "margin": null,
            "max_height": null,
            "max_width": null,
            "min_height": null,
            "min_width": null,
            "object_fit": null,
            "object_position": null,
            "order": null,
            "overflow": null,
            "overflow_x": null,
            "overflow_y": null,
            "padding": null,
            "right": null,
            "top": null,
            "visibility": null,
            "width": null
          }
        },
        "b8d8d36fa4964573876f537765ce7487": {
          "model_module": "@jupyter-widgets/base",
          "model_name": "LayoutModel",
          "model_module_version": "1.2.0",
          "state": {
            "_model_module": "@jupyter-widgets/base",
            "_model_module_version": "1.2.0",
            "_model_name": "LayoutModel",
            "_view_count": null,
            "_view_module": "@jupyter-widgets/base",
            "_view_module_version": "1.2.0",
            "_view_name": "LayoutView",
            "align_content": null,
            "align_items": null,
            "align_self": null,
            "border": null,
            "bottom": null,
            "display": null,
            "flex": null,
            "flex_flow": null,
            "grid_area": null,
            "grid_auto_columns": null,
            "grid_auto_flow": null,
            "grid_auto_rows": null,
            "grid_column": null,
            "grid_gap": null,
            "grid_row": null,
            "grid_template_areas": null,
            "grid_template_columns": null,
            "grid_template_rows": null,
            "height": null,
            "justify_content": null,
            "justify_items": null,
            "left": null,
            "margin": null,
            "max_height": null,
            "max_width": null,
            "min_height": null,
            "min_width": null,
            "object_fit": null,
            "object_position": null,
            "order": null,
            "overflow": null,
            "overflow_x": null,
            "overflow_y": null,
            "padding": null,
            "right": null,
            "top": null,
            "visibility": null,
            "width": null
          }
        },
        "e3cdaa389b3340f9aa3c8fc256ae9324": {
          "model_module": "@jupyter-widgets/controls",
          "model_name": "DescriptionStyleModel",
          "model_module_version": "1.5.0",
          "state": {
            "_model_module": "@jupyter-widgets/controls",
            "_model_module_version": "1.5.0",
            "_model_name": "DescriptionStyleModel",
            "_view_count": null,
            "_view_module": "@jupyter-widgets/base",
            "_view_module_version": "1.2.0",
            "_view_name": "StyleView",
            "description_width": ""
          }
        },
        "b37aeca4c0224bb38ec30bc0b1e1c295": {
          "model_module": "@jupyter-widgets/base",
          "model_name": "LayoutModel",
          "model_module_version": "1.2.0",
          "state": {
            "_model_module": "@jupyter-widgets/base",
            "_model_module_version": "1.2.0",
            "_model_name": "LayoutModel",
            "_view_count": null,
            "_view_module": "@jupyter-widgets/base",
            "_view_module_version": "1.2.0",
            "_view_name": "LayoutView",
            "align_content": null,
            "align_items": null,
            "align_self": null,
            "border": null,
            "bottom": null,
            "display": null,
            "flex": null,
            "flex_flow": null,
            "grid_area": null,
            "grid_auto_columns": null,
            "grid_auto_flow": null,
            "grid_auto_rows": null,
            "grid_column": null,
            "grid_gap": null,
            "grid_row": null,
            "grid_template_areas": null,
            "grid_template_columns": null,
            "grid_template_rows": null,
            "height": null,
            "justify_content": null,
            "justify_items": null,
            "left": null,
            "margin": null,
            "max_height": null,
            "max_width": null,
            "min_height": null,
            "min_width": null,
            "object_fit": null,
            "object_position": null,
            "order": null,
            "overflow": null,
            "overflow_x": null,
            "overflow_y": null,
            "padding": null,
            "right": null,
            "top": null,
            "visibility": null,
            "width": null
          }
        },
        "e17be112743543bc9a3773d08ed67f6c": {
          "model_module": "@jupyter-widgets/controls",
          "model_name": "ProgressStyleModel",
          "model_module_version": "1.5.0",
          "state": {
            "_model_module": "@jupyter-widgets/controls",
            "_model_module_version": "1.5.0",
            "_model_name": "ProgressStyleModel",
            "_view_count": null,
            "_view_module": "@jupyter-widgets/base",
            "_view_module_version": "1.2.0",
            "_view_name": "StyleView",
            "bar_color": null,
            "description_width": ""
          }
        },
        "a78d2f29c57e4e688f96d826189397f7": {
          "model_module": "@jupyter-widgets/base",
          "model_name": "LayoutModel",
          "model_module_version": "1.2.0",
          "state": {
            "_model_module": "@jupyter-widgets/base",
            "_model_module_version": "1.2.0",
            "_model_name": "LayoutModel",
            "_view_count": null,
            "_view_module": "@jupyter-widgets/base",
            "_view_module_version": "1.2.0",
            "_view_name": "LayoutView",
            "align_content": null,
            "align_items": null,
            "align_self": null,
            "border": null,
            "bottom": null,
            "display": null,
            "flex": null,
            "flex_flow": null,
            "grid_area": null,
            "grid_auto_columns": null,
            "grid_auto_flow": null,
            "grid_auto_rows": null,
            "grid_column": null,
            "grid_gap": null,
            "grid_row": null,
            "grid_template_areas": null,
            "grid_template_columns": null,
            "grid_template_rows": null,
            "height": null,
            "justify_content": null,
            "justify_items": null,
            "left": null,
            "margin": null,
            "max_height": null,
            "max_width": null,
            "min_height": null,
            "min_width": null,
            "object_fit": null,
            "object_position": null,
            "order": null,
            "overflow": null,
            "overflow_x": null,
            "overflow_y": null,
            "padding": null,
            "right": null,
            "top": null,
            "visibility": null,
            "width": null
          }
        },
        "e82376662f2f4a99b3d589a469b85aae": {
          "model_module": "@jupyter-widgets/controls",
          "model_name": "DescriptionStyleModel",
          "model_module_version": "1.5.0",
          "state": {
            "_model_module": "@jupyter-widgets/controls",
            "_model_module_version": "1.5.0",
            "_model_name": "DescriptionStyleModel",
            "_view_count": null,
            "_view_module": "@jupyter-widgets/base",
            "_view_module_version": "1.2.0",
            "_view_name": "StyleView",
            "description_width": ""
          }
        },
        "113ff3fced7548b5b5a812ab3ea97d56": {
          "model_module": "@jupyter-widgets/controls",
          "model_name": "HBoxModel",
          "model_module_version": "1.5.0",
          "state": {
            "_dom_classes": [],
            "_model_module": "@jupyter-widgets/controls",
            "_model_module_version": "1.5.0",
            "_model_name": "HBoxModel",
            "_view_count": null,
            "_view_module": "@jupyter-widgets/controls",
            "_view_module_version": "1.5.0",
            "_view_name": "HBoxView",
            "box_style": "",
            "children": [
              "IPY_MODEL_6825b9a29c1f4816afd6c89bcd6c0454",
              "IPY_MODEL_314cd4047d2c49fa8897b5256fb7403c",
              "IPY_MODEL_7d8f6249db374bddbdd6eb0780e30c53"
            ],
            "layout": "IPY_MODEL_25e9d2661f2b4b4e940a45b103a8b7c5"
          }
        },
        "6825b9a29c1f4816afd6c89bcd6c0454": {
          "model_module": "@jupyter-widgets/controls",
          "model_name": "HTMLModel",
          "model_module_version": "1.5.0",
          "state": {
            "_dom_classes": [],
            "_model_module": "@jupyter-widgets/controls",
            "_model_module_version": "1.5.0",
            "_model_name": "HTMLModel",
            "_view_count": null,
            "_view_module": "@jupyter-widgets/controls",
            "_view_module_version": "1.5.0",
            "_view_name": "HTMLView",
            "description": "",
            "description_tooltip": null,
            "layout": "IPY_MODEL_7cf948e9a9894d138ddf62140267ae55",
            "placeholder": "​",
            "style": "IPY_MODEL_80e65914f68946e39b871abd146bdf30",
            "value": "Running chain 1: 100%"
          }
        },
        "314cd4047d2c49fa8897b5256fb7403c": {
          "model_module": "@jupyter-widgets/controls",
          "model_name": "FloatProgressModel",
          "model_module_version": "1.5.0",
          "state": {
            "_dom_classes": [],
            "_model_module": "@jupyter-widgets/controls",
            "_model_module_version": "1.5.0",
            "_model_name": "FloatProgressModel",
            "_view_count": null,
            "_view_module": "@jupyter-widgets/controls",
            "_view_module_version": "1.5.0",
            "_view_name": "ProgressView",
            "bar_style": "success",
            "description": "",
            "description_tooltip": null,
            "layout": "IPY_MODEL_ca9a08cce5c14fd4b8fc6ba80bd0b463",
            "max": 5000,
            "min": 0,
            "orientation": "horizontal",
            "style": "IPY_MODEL_090113f8db9540d3a8492160a93f8b48",
            "value": 5000
          }
        },
        "7d8f6249db374bddbdd6eb0780e30c53": {
          "model_module": "@jupyter-widgets/controls",
          "model_name": "HTMLModel",
          "model_module_version": "1.5.0",
          "state": {
            "_dom_classes": [],
            "_model_module": "@jupyter-widgets/controls",
            "_model_module_version": "1.5.0",
            "_model_name": "HTMLModel",
            "_view_count": null,
            "_view_module": "@jupyter-widgets/controls",
            "_view_module_version": "1.5.0",
            "_view_name": "HTMLView",
            "description": "",
            "description_tooltip": null,
            "layout": "IPY_MODEL_08940930a0784e84b23da794d32d464e",
            "placeholder": "​",
            "style": "IPY_MODEL_f4ce035d1c7f4912bc7b1ea85bb7ba05",
            "value": " 5000/5000 [04:43&lt;00:00, 20.14it/s]"
          }
        },
        "25e9d2661f2b4b4e940a45b103a8b7c5": {
          "model_module": "@jupyter-widgets/base",
          "model_name": "LayoutModel",
          "model_module_version": "1.2.0",
          "state": {
            "_model_module": "@jupyter-widgets/base",
            "_model_module_version": "1.2.0",
            "_model_name": "LayoutModel",
            "_view_count": null,
            "_view_module": "@jupyter-widgets/base",
            "_view_module_version": "1.2.0",
            "_view_name": "LayoutView",
            "align_content": null,
            "align_items": null,
            "align_self": null,
            "border": null,
            "bottom": null,
            "display": null,
            "flex": null,
            "flex_flow": null,
            "grid_area": null,
            "grid_auto_columns": null,
            "grid_auto_flow": null,
            "grid_auto_rows": null,
            "grid_column": null,
            "grid_gap": null,
            "grid_row": null,
            "grid_template_areas": null,
            "grid_template_columns": null,
            "grid_template_rows": null,
            "height": null,
            "justify_content": null,
            "justify_items": null,
            "left": null,
            "margin": null,
            "max_height": null,
            "max_width": null,
            "min_height": null,
            "min_width": null,
            "object_fit": null,
            "object_position": null,
            "order": null,
            "overflow": null,
            "overflow_x": null,
            "overflow_y": null,
            "padding": null,
            "right": null,
            "top": null,
            "visibility": null,
            "width": null
          }
        },
        "7cf948e9a9894d138ddf62140267ae55": {
          "model_module": "@jupyter-widgets/base",
          "model_name": "LayoutModel",
          "model_module_version": "1.2.0",
          "state": {
            "_model_module": "@jupyter-widgets/base",
            "_model_module_version": "1.2.0",
            "_model_name": "LayoutModel",
            "_view_count": null,
            "_view_module": "@jupyter-widgets/base",
            "_view_module_version": "1.2.0",
            "_view_name": "LayoutView",
            "align_content": null,
            "align_items": null,
            "align_self": null,
            "border": null,
            "bottom": null,
            "display": null,
            "flex": null,
            "flex_flow": null,
            "grid_area": null,
            "grid_auto_columns": null,
            "grid_auto_flow": null,
            "grid_auto_rows": null,
            "grid_column": null,
            "grid_gap": null,
            "grid_row": null,
            "grid_template_areas": null,
            "grid_template_columns": null,
            "grid_template_rows": null,
            "height": null,
            "justify_content": null,
            "justify_items": null,
            "left": null,
            "margin": null,
            "max_height": null,
            "max_width": null,
            "min_height": null,
            "min_width": null,
            "object_fit": null,
            "object_position": null,
            "order": null,
            "overflow": null,
            "overflow_x": null,
            "overflow_y": null,
            "padding": null,
            "right": null,
            "top": null,
            "visibility": null,
            "width": null
          }
        },
        "80e65914f68946e39b871abd146bdf30": {
          "model_module": "@jupyter-widgets/controls",
          "model_name": "DescriptionStyleModel",
          "model_module_version": "1.5.0",
          "state": {
            "_model_module": "@jupyter-widgets/controls",
            "_model_module_version": "1.5.0",
            "_model_name": "DescriptionStyleModel",
            "_view_count": null,
            "_view_module": "@jupyter-widgets/base",
            "_view_module_version": "1.2.0",
            "_view_name": "StyleView",
            "description_width": ""
          }
        },
        "ca9a08cce5c14fd4b8fc6ba80bd0b463": {
          "model_module": "@jupyter-widgets/base",
          "model_name": "LayoutModel",
          "model_module_version": "1.2.0",
          "state": {
            "_model_module": "@jupyter-widgets/base",
            "_model_module_version": "1.2.0",
            "_model_name": "LayoutModel",
            "_view_count": null,
            "_view_module": "@jupyter-widgets/base",
            "_view_module_version": "1.2.0",
            "_view_name": "LayoutView",
            "align_content": null,
            "align_items": null,
            "align_self": null,
            "border": null,
            "bottom": null,
            "display": null,
            "flex": null,
            "flex_flow": null,
            "grid_area": null,
            "grid_auto_columns": null,
            "grid_auto_flow": null,
            "grid_auto_rows": null,
            "grid_column": null,
            "grid_gap": null,
            "grid_row": null,
            "grid_template_areas": null,
            "grid_template_columns": null,
            "grid_template_rows": null,
            "height": null,
            "justify_content": null,
            "justify_items": null,
            "left": null,
            "margin": null,
            "max_height": null,
            "max_width": null,
            "min_height": null,
            "min_width": null,
            "object_fit": null,
            "object_position": null,
            "order": null,
            "overflow": null,
            "overflow_x": null,
            "overflow_y": null,
            "padding": null,
            "right": null,
            "top": null,
            "visibility": null,
            "width": null
          }
        },
        "090113f8db9540d3a8492160a93f8b48": {
          "model_module": "@jupyter-widgets/controls",
          "model_name": "ProgressStyleModel",
          "model_module_version": "1.5.0",
          "state": {
            "_model_module": "@jupyter-widgets/controls",
            "_model_module_version": "1.5.0",
            "_model_name": "ProgressStyleModel",
            "_view_count": null,
            "_view_module": "@jupyter-widgets/base",
            "_view_module_version": "1.2.0",
            "_view_name": "StyleView",
            "bar_color": null,
            "description_width": ""
          }
        },
        "08940930a0784e84b23da794d32d464e": {
          "model_module": "@jupyter-widgets/base",
          "model_name": "LayoutModel",
          "model_module_version": "1.2.0",
          "state": {
            "_model_module": "@jupyter-widgets/base",
            "_model_module_version": "1.2.0",
            "_model_name": "LayoutModel",
            "_view_count": null,
            "_view_module": "@jupyter-widgets/base",
            "_view_module_version": "1.2.0",
            "_view_name": "LayoutView",
            "align_content": null,
            "align_items": null,
            "align_self": null,
            "border": null,
            "bottom": null,
            "display": null,
            "flex": null,
            "flex_flow": null,
            "grid_area": null,
            "grid_auto_columns": null,
            "grid_auto_flow": null,
            "grid_auto_rows": null,
            "grid_column": null,
            "grid_gap": null,
            "grid_row": null,
            "grid_template_areas": null,
            "grid_template_columns": null,
            "grid_template_rows": null,
            "height": null,
            "justify_content": null,
            "justify_items": null,
            "left": null,
            "margin": null,
            "max_height": null,
            "max_width": null,
            "min_height": null,
            "min_width": null,
            "object_fit": null,
            "object_position": null,
            "order": null,
            "overflow": null,
            "overflow_x": null,
            "overflow_y": null,
            "padding": null,
            "right": null,
            "top": null,
            "visibility": null,
            "width": null
          }
        },
        "f4ce035d1c7f4912bc7b1ea85bb7ba05": {
          "model_module": "@jupyter-widgets/controls",
          "model_name": "DescriptionStyleModel",
          "model_module_version": "1.5.0",
          "state": {
            "_model_module": "@jupyter-widgets/controls",
            "_model_module_version": "1.5.0",
            "_model_name": "DescriptionStyleModel",
            "_view_count": null,
            "_view_module": "@jupyter-widgets/base",
            "_view_module_version": "1.2.0",
            "_view_name": "StyleView",
            "description_width": ""
          }
        },
        "b79f8ac1d1994f9983e388202c1341e5": {
          "model_module": "@jupyter-widgets/controls",
          "model_name": "HBoxModel",
          "model_module_version": "1.5.0",
          "state": {
            "_dom_classes": [],
            "_model_module": "@jupyter-widgets/controls",
            "_model_module_version": "1.5.0",
            "_model_name": "HBoxModel",
            "_view_count": null,
            "_view_module": "@jupyter-widgets/controls",
            "_view_module_version": "1.5.0",
            "_view_name": "HBoxView",
            "box_style": "",
            "children": [
              "IPY_MODEL_864701cbe79a481298051ee1bc92af14",
              "IPY_MODEL_38462c2cee594f32b244b9872a4757ac",
              "IPY_MODEL_05b4367080a14f6381b9c1858c307854"
            ],
            "layout": "IPY_MODEL_8cde99f5a3cc499986f3146c6bf1a4fe"
          }
        },
        "864701cbe79a481298051ee1bc92af14": {
          "model_module": "@jupyter-widgets/controls",
          "model_name": "HTMLModel",
          "model_module_version": "1.5.0",
          "state": {
            "_dom_classes": [],
            "_model_module": "@jupyter-widgets/controls",
            "_model_module_version": "1.5.0",
            "_model_name": "HTMLModel",
            "_view_count": null,
            "_view_module": "@jupyter-widgets/controls",
            "_view_module_version": "1.5.0",
            "_view_name": "HTMLView",
            "description": "",
            "description_tooltip": null,
            "layout": "IPY_MODEL_3e530dc6b35448a4be65ec644abc7844",
            "placeholder": "​",
            "style": "IPY_MODEL_12fea079fea74b0f8729994c86c1aa8a",
            "value": "Running chain 2: 100%"
          }
        },
        "38462c2cee594f32b244b9872a4757ac": {
          "model_module": "@jupyter-widgets/controls",
          "model_name": "FloatProgressModel",
          "model_module_version": "1.5.0",
          "state": {
            "_dom_classes": [],
            "_model_module": "@jupyter-widgets/controls",
            "_model_module_version": "1.5.0",
            "_model_name": "FloatProgressModel",
            "_view_count": null,
            "_view_module": "@jupyter-widgets/controls",
            "_view_module_version": "1.5.0",
            "_view_name": "ProgressView",
            "bar_style": "success",
            "description": "",
            "description_tooltip": null,
            "layout": "IPY_MODEL_10cd8cb403734e188807b19079ad9b78",
            "max": 5000,
            "min": 0,
            "orientation": "horizontal",
            "style": "IPY_MODEL_6d45c7354ec04bc59d07c3dbf92e3133",
            "value": 5000
          }
        },
        "05b4367080a14f6381b9c1858c307854": {
          "model_module": "@jupyter-widgets/controls",
          "model_name": "HTMLModel",
          "model_module_version": "1.5.0",
          "state": {
            "_dom_classes": [],
            "_model_module": "@jupyter-widgets/controls",
            "_model_module_version": "1.5.0",
            "_model_name": "HTMLModel",
            "_view_count": null,
            "_view_module": "@jupyter-widgets/controls",
            "_view_module_version": "1.5.0",
            "_view_name": "HTMLView",
            "description": "",
            "description_tooltip": null,
            "layout": "IPY_MODEL_5c81b4898d8345b391a5f8640666ccf1",
            "placeholder": "​",
            "style": "IPY_MODEL_86d19a84622c490283b5b3ff0f2c7b00",
            "value": " 5000/5000 [04:43&lt;00:00, 20.05it/s]"
          }
        },
        "8cde99f5a3cc499986f3146c6bf1a4fe": {
          "model_module": "@jupyter-widgets/base",
          "model_name": "LayoutModel",
          "model_module_version": "1.2.0",
          "state": {
            "_model_module": "@jupyter-widgets/base",
            "_model_module_version": "1.2.0",
            "_model_name": "LayoutModel",
            "_view_count": null,
            "_view_module": "@jupyter-widgets/base",
            "_view_module_version": "1.2.0",
            "_view_name": "LayoutView",
            "align_content": null,
            "align_items": null,
            "align_self": null,
            "border": null,
            "bottom": null,
            "display": null,
            "flex": null,
            "flex_flow": null,
            "grid_area": null,
            "grid_auto_columns": null,
            "grid_auto_flow": null,
            "grid_auto_rows": null,
            "grid_column": null,
            "grid_gap": null,
            "grid_row": null,
            "grid_template_areas": null,
            "grid_template_columns": null,
            "grid_template_rows": null,
            "height": null,
            "justify_content": null,
            "justify_items": null,
            "left": null,
            "margin": null,
            "max_height": null,
            "max_width": null,
            "min_height": null,
            "min_width": null,
            "object_fit": null,
            "object_position": null,
            "order": null,
            "overflow": null,
            "overflow_x": null,
            "overflow_y": null,
            "padding": null,
            "right": null,
            "top": null,
            "visibility": null,
            "width": null
          }
        },
        "3e530dc6b35448a4be65ec644abc7844": {
          "model_module": "@jupyter-widgets/base",
          "model_name": "LayoutModel",
          "model_module_version": "1.2.0",
          "state": {
            "_model_module": "@jupyter-widgets/base",
            "_model_module_version": "1.2.0",
            "_model_name": "LayoutModel",
            "_view_count": null,
            "_view_module": "@jupyter-widgets/base",
            "_view_module_version": "1.2.0",
            "_view_name": "LayoutView",
            "align_content": null,
            "align_items": null,
            "align_self": null,
            "border": null,
            "bottom": null,
            "display": null,
            "flex": null,
            "flex_flow": null,
            "grid_area": null,
            "grid_auto_columns": null,
            "grid_auto_flow": null,
            "grid_auto_rows": null,
            "grid_column": null,
            "grid_gap": null,
            "grid_row": null,
            "grid_template_areas": null,
            "grid_template_columns": null,
            "grid_template_rows": null,
            "height": null,
            "justify_content": null,
            "justify_items": null,
            "left": null,
            "margin": null,
            "max_height": null,
            "max_width": null,
            "min_height": null,
            "min_width": null,
            "object_fit": null,
            "object_position": null,
            "order": null,
            "overflow": null,
            "overflow_x": null,
            "overflow_y": null,
            "padding": null,
            "right": null,
            "top": null,
            "visibility": null,
            "width": null
          }
        },
        "12fea079fea74b0f8729994c86c1aa8a": {
          "model_module": "@jupyter-widgets/controls",
          "model_name": "DescriptionStyleModel",
          "model_module_version": "1.5.0",
          "state": {
            "_model_module": "@jupyter-widgets/controls",
            "_model_module_version": "1.5.0",
            "_model_name": "DescriptionStyleModel",
            "_view_count": null,
            "_view_module": "@jupyter-widgets/base",
            "_view_module_version": "1.2.0",
            "_view_name": "StyleView",
            "description_width": ""
          }
        },
        "10cd8cb403734e188807b19079ad9b78": {
          "model_module": "@jupyter-widgets/base",
          "model_name": "LayoutModel",
          "model_module_version": "1.2.0",
          "state": {
            "_model_module": "@jupyter-widgets/base",
            "_model_module_version": "1.2.0",
            "_model_name": "LayoutModel",
            "_view_count": null,
            "_view_module": "@jupyter-widgets/base",
            "_view_module_version": "1.2.0",
            "_view_name": "LayoutView",
            "align_content": null,
            "align_items": null,
            "align_self": null,
            "border": null,
            "bottom": null,
            "display": null,
            "flex": null,
            "flex_flow": null,
            "grid_area": null,
            "grid_auto_columns": null,
            "grid_auto_flow": null,
            "grid_auto_rows": null,
            "grid_column": null,
            "grid_gap": null,
            "grid_row": null,
            "grid_template_areas": null,
            "grid_template_columns": null,
            "grid_template_rows": null,
            "height": null,
            "justify_content": null,
            "justify_items": null,
            "left": null,
            "margin": null,
            "max_height": null,
            "max_width": null,
            "min_height": null,
            "min_width": null,
            "object_fit": null,
            "object_position": null,
            "order": null,
            "overflow": null,
            "overflow_x": null,
            "overflow_y": null,
            "padding": null,
            "right": null,
            "top": null,
            "visibility": null,
            "width": null
          }
        },
        "6d45c7354ec04bc59d07c3dbf92e3133": {
          "model_module": "@jupyter-widgets/controls",
          "model_name": "ProgressStyleModel",
          "model_module_version": "1.5.0",
          "state": {
            "_model_module": "@jupyter-widgets/controls",
            "_model_module_version": "1.5.0",
            "_model_name": "ProgressStyleModel",
            "_view_count": null,
            "_view_module": "@jupyter-widgets/base",
            "_view_module_version": "1.2.0",
            "_view_name": "StyleView",
            "bar_color": null,
            "description_width": ""
          }
        },
        "5c81b4898d8345b391a5f8640666ccf1": {
          "model_module": "@jupyter-widgets/base",
          "model_name": "LayoutModel",
          "model_module_version": "1.2.0",
          "state": {
            "_model_module": "@jupyter-widgets/base",
            "_model_module_version": "1.2.0",
            "_model_name": "LayoutModel",
            "_view_count": null,
            "_view_module": "@jupyter-widgets/base",
            "_view_module_version": "1.2.0",
            "_view_name": "LayoutView",
            "align_content": null,
            "align_items": null,
            "align_self": null,
            "border": null,
            "bottom": null,
            "display": null,
            "flex": null,
            "flex_flow": null,
            "grid_area": null,
            "grid_auto_columns": null,
            "grid_auto_flow": null,
            "grid_auto_rows": null,
            "grid_column": null,
            "grid_gap": null,
            "grid_row": null,
            "grid_template_areas": null,
            "grid_template_columns": null,
            "grid_template_rows": null,
            "height": null,
            "justify_content": null,
            "justify_items": null,
            "left": null,
            "margin": null,
            "max_height": null,
            "max_width": null,
            "min_height": null,
            "min_width": null,
            "object_fit": null,
            "object_position": null,
            "order": null,
            "overflow": null,
            "overflow_x": null,
            "overflow_y": null,
            "padding": null,
            "right": null,
            "top": null,
            "visibility": null,
            "width": null
          }
        },
        "86d19a84622c490283b5b3ff0f2c7b00": {
          "model_module": "@jupyter-widgets/controls",
          "model_name": "DescriptionStyleModel",
          "model_module_version": "1.5.0",
          "state": {
            "_model_module": "@jupyter-widgets/controls",
            "_model_module_version": "1.5.0",
            "_model_name": "DescriptionStyleModel",
            "_view_count": null,
            "_view_module": "@jupyter-widgets/base",
            "_view_module_version": "1.2.0",
            "_view_name": "StyleView",
            "description_width": ""
          }
        },
        "259225adc37645a8a04ec01fa186287d": {
          "model_module": "@jupyter-widgets/controls",
          "model_name": "HBoxModel",
          "model_module_version": "1.5.0",
          "state": {
            "_dom_classes": [],
            "_model_module": "@jupyter-widgets/controls",
            "_model_module_version": "1.5.0",
            "_model_name": "HBoxModel",
            "_view_count": null,
            "_view_module": "@jupyter-widgets/controls",
            "_view_module_version": "1.5.0",
            "_view_name": "HBoxView",
            "box_style": "",
            "children": [
              "IPY_MODEL_3826a9db56cb4e5b8e0dc2eb737b0f49",
              "IPY_MODEL_4bc6cd93b6874c53bc9d056f4bd48bd8",
              "IPY_MODEL_30a832b700de4698a2a9b2d28964430a"
            ],
            "layout": "IPY_MODEL_43b5f990c4504a0e89fd4fab44151fe8"
          }
        },
        "3826a9db56cb4e5b8e0dc2eb737b0f49": {
          "model_module": "@jupyter-widgets/controls",
          "model_name": "HTMLModel",
          "model_module_version": "1.5.0",
          "state": {
            "_dom_classes": [],
            "_model_module": "@jupyter-widgets/controls",
            "_model_module_version": "1.5.0",
            "_model_name": "HTMLModel",
            "_view_count": null,
            "_view_module": "@jupyter-widgets/controls",
            "_view_module_version": "1.5.0",
            "_view_name": "HTMLView",
            "description": "",
            "description_tooltip": null,
            "layout": "IPY_MODEL_3bac18123d6f493abb38809f0a98131f",
            "placeholder": "​",
            "style": "IPY_MODEL_8c7c5353b65144c9b6d224695b31aba9",
            "value": "Running chain 3: 100%"
          }
        },
        "4bc6cd93b6874c53bc9d056f4bd48bd8": {
          "model_module": "@jupyter-widgets/controls",
          "model_name": "FloatProgressModel",
          "model_module_version": "1.5.0",
          "state": {
            "_dom_classes": [],
            "_model_module": "@jupyter-widgets/controls",
            "_model_module_version": "1.5.0",
            "_model_name": "FloatProgressModel",
            "_view_count": null,
            "_view_module": "@jupyter-widgets/controls",
            "_view_module_version": "1.5.0",
            "_view_name": "ProgressView",
            "bar_style": "success",
            "description": "",
            "description_tooltip": null,
            "layout": "IPY_MODEL_9499fd366c90411d838eaf3d292e319d",
            "max": 5000,
            "min": 0,
            "orientation": "horizontal",
            "style": "IPY_MODEL_30eba92e448747dda83644ae69ec7e2a",
            "value": 5000
          }
        },
        "30a832b700de4698a2a9b2d28964430a": {
          "model_module": "@jupyter-widgets/controls",
          "model_name": "HTMLModel",
          "model_module_version": "1.5.0",
          "state": {
            "_dom_classes": [],
            "_model_module": "@jupyter-widgets/controls",
            "_model_module_version": "1.5.0",
            "_model_name": "HTMLModel",
            "_view_count": null,
            "_view_module": "@jupyter-widgets/controls",
            "_view_module_version": "1.5.0",
            "_view_name": "HTMLView",
            "description": "",
            "description_tooltip": null,
            "layout": "IPY_MODEL_9301e6f1809e4d1f80f27b8c0fee912a",
            "placeholder": "​",
            "style": "IPY_MODEL_38cc88af1ba84d299acacb78036375b6",
            "value": " 5000/5000 [04:43&lt;00:00, 20.24it/s]"
          }
        },
        "43b5f990c4504a0e89fd4fab44151fe8": {
          "model_module": "@jupyter-widgets/base",
          "model_name": "LayoutModel",
          "model_module_version": "1.2.0",
          "state": {
            "_model_module": "@jupyter-widgets/base",
            "_model_module_version": "1.2.0",
            "_model_name": "LayoutModel",
            "_view_count": null,
            "_view_module": "@jupyter-widgets/base",
            "_view_module_version": "1.2.0",
            "_view_name": "LayoutView",
            "align_content": null,
            "align_items": null,
            "align_self": null,
            "border": null,
            "bottom": null,
            "display": null,
            "flex": null,
            "flex_flow": null,
            "grid_area": null,
            "grid_auto_columns": null,
            "grid_auto_flow": null,
            "grid_auto_rows": null,
            "grid_column": null,
            "grid_gap": null,
            "grid_row": null,
            "grid_template_areas": null,
            "grid_template_columns": null,
            "grid_template_rows": null,
            "height": null,
            "justify_content": null,
            "justify_items": null,
            "left": null,
            "margin": null,
            "max_height": null,
            "max_width": null,
            "min_height": null,
            "min_width": null,
            "object_fit": null,
            "object_position": null,
            "order": null,
            "overflow": null,
            "overflow_x": null,
            "overflow_y": null,
            "padding": null,
            "right": null,
            "top": null,
            "visibility": null,
            "width": null
          }
        },
        "3bac18123d6f493abb38809f0a98131f": {
          "model_module": "@jupyter-widgets/base",
          "model_name": "LayoutModel",
          "model_module_version": "1.2.0",
          "state": {
            "_model_module": "@jupyter-widgets/base",
            "_model_module_version": "1.2.0",
            "_model_name": "LayoutModel",
            "_view_count": null,
            "_view_module": "@jupyter-widgets/base",
            "_view_module_version": "1.2.0",
            "_view_name": "LayoutView",
            "align_content": null,
            "align_items": null,
            "align_self": null,
            "border": null,
            "bottom": null,
            "display": null,
            "flex": null,
            "flex_flow": null,
            "grid_area": null,
            "grid_auto_columns": null,
            "grid_auto_flow": null,
            "grid_auto_rows": null,
            "grid_column": null,
            "grid_gap": null,
            "grid_row": null,
            "grid_template_areas": null,
            "grid_template_columns": null,
            "grid_template_rows": null,
            "height": null,
            "justify_content": null,
            "justify_items": null,
            "left": null,
            "margin": null,
            "max_height": null,
            "max_width": null,
            "min_height": null,
            "min_width": null,
            "object_fit": null,
            "object_position": null,
            "order": null,
            "overflow": null,
            "overflow_x": null,
            "overflow_y": null,
            "padding": null,
            "right": null,
            "top": null,
            "visibility": null,
            "width": null
          }
        },
        "8c7c5353b65144c9b6d224695b31aba9": {
          "model_module": "@jupyter-widgets/controls",
          "model_name": "DescriptionStyleModel",
          "model_module_version": "1.5.0",
          "state": {
            "_model_module": "@jupyter-widgets/controls",
            "_model_module_version": "1.5.0",
            "_model_name": "DescriptionStyleModel",
            "_view_count": null,
            "_view_module": "@jupyter-widgets/base",
            "_view_module_version": "1.2.0",
            "_view_name": "StyleView",
            "description_width": ""
          }
        },
        "9499fd366c90411d838eaf3d292e319d": {
          "model_module": "@jupyter-widgets/base",
          "model_name": "LayoutModel",
          "model_module_version": "1.2.0",
          "state": {
            "_model_module": "@jupyter-widgets/base",
            "_model_module_version": "1.2.0",
            "_model_name": "LayoutModel",
            "_view_count": null,
            "_view_module": "@jupyter-widgets/base",
            "_view_module_version": "1.2.0",
            "_view_name": "LayoutView",
            "align_content": null,
            "align_items": null,
            "align_self": null,
            "border": null,
            "bottom": null,
            "display": null,
            "flex": null,
            "flex_flow": null,
            "grid_area": null,
            "grid_auto_columns": null,
            "grid_auto_flow": null,
            "grid_auto_rows": null,
            "grid_column": null,
            "grid_gap": null,
            "grid_row": null,
            "grid_template_areas": null,
            "grid_template_columns": null,
            "grid_template_rows": null,
            "height": null,
            "justify_content": null,
            "justify_items": null,
            "left": null,
            "margin": null,
            "max_height": null,
            "max_width": null,
            "min_height": null,
            "min_width": null,
            "object_fit": null,
            "object_position": null,
            "order": null,
            "overflow": null,
            "overflow_x": null,
            "overflow_y": null,
            "padding": null,
            "right": null,
            "top": null,
            "visibility": null,
            "width": null
          }
        },
        "30eba92e448747dda83644ae69ec7e2a": {
          "model_module": "@jupyter-widgets/controls",
          "model_name": "ProgressStyleModel",
          "model_module_version": "1.5.0",
          "state": {
            "_model_module": "@jupyter-widgets/controls",
            "_model_module_version": "1.5.0",
            "_model_name": "ProgressStyleModel",
            "_view_count": null,
            "_view_module": "@jupyter-widgets/base",
            "_view_module_version": "1.2.0",
            "_view_name": "StyleView",
            "bar_color": null,
            "description_width": ""
          }
        },
        "9301e6f1809e4d1f80f27b8c0fee912a": {
          "model_module": "@jupyter-widgets/base",
          "model_name": "LayoutModel",
          "model_module_version": "1.2.0",
          "state": {
            "_model_module": "@jupyter-widgets/base",
            "_model_module_version": "1.2.0",
            "_model_name": "LayoutModel",
            "_view_count": null,
            "_view_module": "@jupyter-widgets/base",
            "_view_module_version": "1.2.0",
            "_view_name": "LayoutView",
            "align_content": null,
            "align_items": null,
            "align_self": null,
            "border": null,
            "bottom": null,
            "display": null,
            "flex": null,
            "flex_flow": null,
            "grid_area": null,
            "grid_auto_columns": null,
            "grid_auto_flow": null,
            "grid_auto_rows": null,
            "grid_column": null,
            "grid_gap": null,
            "grid_row": null,
            "grid_template_areas": null,
            "grid_template_columns": null,
            "grid_template_rows": null,
            "height": null,
            "justify_content": null,
            "justify_items": null,
            "left": null,
            "margin": null,
            "max_height": null,
            "max_width": null,
            "min_height": null,
            "min_width": null,
            "object_fit": null,
            "object_position": null,
            "order": null,
            "overflow": null,
            "overflow_x": null,
            "overflow_y": null,
            "padding": null,
            "right": null,
            "top": null,
            "visibility": null,
            "width": null
          }
        },
        "38cc88af1ba84d299acacb78036375b6": {
          "model_module": "@jupyter-widgets/controls",
          "model_name": "DescriptionStyleModel",
          "model_module_version": "1.5.0",
          "state": {
            "_model_module": "@jupyter-widgets/controls",
            "_model_module_version": "1.5.0",
            "_model_name": "DescriptionStyleModel",
            "_view_count": null,
            "_view_module": "@jupyter-widgets/base",
            "_view_module_version": "1.2.0",
            "_view_name": "StyleView",
            "description_width": ""
          }
        }
      }
    }
  },
  "cells": [
    {
      "cell_type": "code",
      "execution_count": 1,
      "metadata": {
        "colab": {
          "base_uri": "https://localhost:8080/"
        },
        "id": "KRP8nD0waS_G",
        "outputId": "a63be867-af73-4658-a1fa-c20e5b20bc3d"
      },
      "outputs": [
        {
          "output_type": "stream",
          "name": "stdout",
          "text": [
            "Requirement already satisfied: pymc in /usr/local/lib/python3.10/dist-packages (5.10.4)\n",
            "Requirement already satisfied: arviz>=0.13.0 in /usr/local/lib/python3.10/dist-packages (from pymc) (0.15.1)\n",
            "Requirement already satisfied: cachetools>=4.2.1 in /usr/local/lib/python3.10/dist-packages (from pymc) (5.3.3)\n",
            "Requirement already satisfied: cloudpickle in /usr/local/lib/python3.10/dist-packages (from pymc) (2.2.1)\n",
            "Requirement already satisfied: fastprogress>=0.2.0 in /usr/local/lib/python3.10/dist-packages (from pymc) (1.0.3)\n",
            "Requirement already satisfied: numpy>=1.15.0 in /usr/local/lib/python3.10/dist-packages (from pymc) (1.25.2)\n",
            "Requirement already satisfied: pandas>=0.24.0 in /usr/local/lib/python3.10/dist-packages (from pymc) (2.0.3)\n",
            "Requirement already satisfied: pytensor<2.19,>=2.18.1 in /usr/local/lib/python3.10/dist-packages (from pymc) (2.18.6)\n",
            "Requirement already satisfied: scipy>=1.4.1 in /usr/local/lib/python3.10/dist-packages (from pymc) (1.11.4)\n",
            "Requirement already satisfied: typing-extensions>=3.7.4 in /usr/local/lib/python3.10/dist-packages (from pymc) (4.12.1)\n",
            "Requirement already satisfied: setuptools>=60.0.0 in /usr/local/lib/python3.10/dist-packages (from arviz>=0.13.0->pymc) (67.7.2)\n",
            "Requirement already satisfied: matplotlib>=3.2 in /usr/local/lib/python3.10/dist-packages (from arviz>=0.13.0->pymc) (3.7.1)\n",
            "Requirement already satisfied: packaging in /usr/local/lib/python3.10/dist-packages (from arviz>=0.13.0->pymc) (24.0)\n",
            "Requirement already satisfied: xarray>=0.21.0 in /usr/local/lib/python3.10/dist-packages (from arviz>=0.13.0->pymc) (2023.7.0)\n",
            "Requirement already satisfied: h5netcdf>=1.0.2 in /usr/local/lib/python3.10/dist-packages (from arviz>=0.13.0->pymc) (1.3.0)\n",
            "Requirement already satisfied: xarray-einstats>=0.3 in /usr/local/lib/python3.10/dist-packages (from arviz>=0.13.0->pymc) (0.7.0)\n",
            "Requirement already satisfied: python-dateutil>=2.8.2 in /usr/local/lib/python3.10/dist-packages (from pandas>=0.24.0->pymc) (2.8.2)\n",
            "Requirement already satisfied: pytz>=2020.1 in /usr/local/lib/python3.10/dist-packages (from pandas>=0.24.0->pymc) (2023.4)\n",
            "Requirement already satisfied: tzdata>=2022.1 in /usr/local/lib/python3.10/dist-packages (from pandas>=0.24.0->pymc) (2024.1)\n",
            "Requirement already satisfied: filelock in /usr/local/lib/python3.10/dist-packages (from pytensor<2.19,>=2.18.1->pymc) (3.14.0)\n",
            "Requirement already satisfied: etuples in /usr/local/lib/python3.10/dist-packages (from pytensor<2.19,>=2.18.1->pymc) (0.3.9)\n",
            "Requirement already satisfied: logical-unification in /usr/local/lib/python3.10/dist-packages (from pytensor<2.19,>=2.18.1->pymc) (0.4.6)\n",
            "Requirement already satisfied: miniKanren in /usr/local/lib/python3.10/dist-packages (from pytensor<2.19,>=2.18.1->pymc) (1.0.3)\n",
            "Requirement already satisfied: cons in /usr/local/lib/python3.10/dist-packages (from pytensor<2.19,>=2.18.1->pymc) (0.4.6)\n",
            "Requirement already satisfied: h5py in /usr/local/lib/python3.10/dist-packages (from h5netcdf>=1.0.2->arviz>=0.13.0->pymc) (3.9.0)\n",
            "Requirement already satisfied: contourpy>=1.0.1 in /usr/local/lib/python3.10/dist-packages (from matplotlib>=3.2->arviz>=0.13.0->pymc) (1.2.1)\n",
            "Requirement already satisfied: cycler>=0.10 in /usr/local/lib/python3.10/dist-packages (from matplotlib>=3.2->arviz>=0.13.0->pymc) (0.12.1)\n",
            "Requirement already satisfied: fonttools>=4.22.0 in /usr/local/lib/python3.10/dist-packages (from matplotlib>=3.2->arviz>=0.13.0->pymc) (4.53.0)\n",
            "Requirement already satisfied: kiwisolver>=1.0.1 in /usr/local/lib/python3.10/dist-packages (from matplotlib>=3.2->arviz>=0.13.0->pymc) (1.4.5)\n",
            "Requirement already satisfied: pillow>=6.2.0 in /usr/local/lib/python3.10/dist-packages (from matplotlib>=3.2->arviz>=0.13.0->pymc) (9.4.0)\n",
            "Requirement already satisfied: pyparsing>=2.3.1 in /usr/local/lib/python3.10/dist-packages (from matplotlib>=3.2->arviz>=0.13.0->pymc) (3.1.2)\n",
            "Requirement already satisfied: six>=1.5 in /usr/local/lib/python3.10/dist-packages (from python-dateutil>=2.8.2->pandas>=0.24.0->pymc) (1.16.0)\n",
            "Requirement already satisfied: toolz in /usr/local/lib/python3.10/dist-packages (from logical-unification->pytensor<2.19,>=2.18.1->pymc) (0.12.1)\n",
            "Requirement already satisfied: multipledispatch in /usr/local/lib/python3.10/dist-packages (from logical-unification->pytensor<2.19,>=2.18.1->pymc) (1.0.0)\n",
            "Requirement already satisfied: numpyro in /usr/local/lib/python3.10/dist-packages (0.15.0)\n",
            "Requirement already satisfied: jax>=0.4.14 in /usr/local/lib/python3.10/dist-packages (from numpyro) (0.4.26)\n",
            "Requirement already satisfied: jaxlib>=0.4.14 in /usr/local/lib/python3.10/dist-packages (from numpyro) (0.4.26+cuda12.cudnn89)\n",
            "Requirement already satisfied: multipledispatch in /usr/local/lib/python3.10/dist-packages (from numpyro) (1.0.0)\n",
            "Requirement already satisfied: numpy in /usr/local/lib/python3.10/dist-packages (from numpyro) (1.25.2)\n",
            "Requirement already satisfied: tqdm in /usr/local/lib/python3.10/dist-packages (from numpyro) (4.66.4)\n",
            "Requirement already satisfied: ml-dtypes>=0.2.0 in /usr/local/lib/python3.10/dist-packages (from jax>=0.4.14->numpyro) (0.2.0)\n",
            "Requirement already satisfied: opt-einsum in /usr/local/lib/python3.10/dist-packages (from jax>=0.4.14->numpyro) (3.3.0)\n",
            "Requirement already satisfied: scipy>=1.9 in /usr/local/lib/python3.10/dist-packages (from jax>=0.4.14->numpyro) (1.11.4)\n",
            "Requirement already satisfied: aeppl in /usr/local/lib/python3.10/dist-packages (0.1.5)\n",
            "Requirement already satisfied: numpy>=1.18.1 in /usr/local/lib/python3.10/dist-packages (from aeppl) (1.25.2)\n",
            "Requirement already satisfied: scipy>=1.4.0 in /usr/local/lib/python3.10/dist-packages (from aeppl) (1.11.4)\n",
            "Requirement already satisfied: aesara>=2.8.13 in /usr/local/lib/python3.10/dist-packages (from aeppl) (2.9.3)\n",
            "Requirement already satisfied: typing-extensions in /usr/local/lib/python3.10/dist-packages (from aeppl) (4.12.1)\n",
            "Requirement already satisfied: cons in /usr/local/lib/python3.10/dist-packages (from aesara>=2.8.13->aeppl) (0.4.6)\n",
            "Requirement already satisfied: etuples in /usr/local/lib/python3.10/dist-packages (from aesara>=2.8.13->aeppl) (0.3.9)\n",
            "Requirement already satisfied: filelock in /usr/local/lib/python3.10/dist-packages (from aesara>=2.8.13->aeppl) (3.14.0)\n",
            "Requirement already satisfied: logical-unification in /usr/local/lib/python3.10/dist-packages (from aesara>=2.8.13->aeppl) (0.4.6)\n",
            "Requirement already satisfied: minikanren in /usr/local/lib/python3.10/dist-packages (from aesara>=2.8.13->aeppl) (1.0.3)\n",
            "Requirement already satisfied: setuptools>=48.0.0 in /usr/local/lib/python3.10/dist-packages (from aesara>=2.8.13->aeppl) (67.7.2)\n",
            "Requirement already satisfied: toolz in /usr/local/lib/python3.10/dist-packages (from logical-unification->aesara>=2.8.13->aeppl) (0.12.1)\n",
            "Requirement already satisfied: multipledispatch in /usr/local/lib/python3.10/dist-packages (from logical-unification->aesara>=2.8.13->aeppl) (1.0.0)\n",
            "Requirement already satisfied: jax in /usr/local/lib/python3.10/dist-packages (0.4.26)\n",
            "Requirement already satisfied: ml-dtypes>=0.2.0 in /usr/local/lib/python3.10/dist-packages (from jax) (0.2.0)\n",
            "Requirement already satisfied: numpy>=1.22 in /usr/local/lib/python3.10/dist-packages (from jax) (1.25.2)\n",
            "Requirement already satisfied: opt-einsum in /usr/local/lib/python3.10/dist-packages (from jax) (3.3.0)\n",
            "Requirement already satisfied: scipy>=1.9 in /usr/local/lib/python3.10/dist-packages (from jax) (1.11.4)\n"
          ]
        }
      ],
      "source": [
        "!pip install pymc\n",
        "!pip install numpyro\n",
        "!pip install aeppl\n",
        "!pip install jax"
      ]
    },
    {
      "cell_type": "code",
      "source": [],
      "metadata": {
        "id": "dbxOuhW6MesA"
      },
      "execution_count": 1,
      "outputs": []
    },
    {
      "cell_type": "code",
      "source": [
        "'''import matplotlib.pyplot as plt\n",
        "\n",
        "import pyGMs as gm\n",
        "import numpy as np\n",
        "import torch\n",
        "\n",
        "import pyro\n",
        "import numpyro\n",
        "import numpyro.infer\n",
        "import numpyro.optim\n",
        "import numpyro.distributions as dist\n",
        "import pyro.poutine as poutine\n",
        "from jax import random\n",
        "import jax.numpy as jnp\n",
        "\n",
        "import pandas as pd\n",
        "\n",
        "import requests                                      # reading data\n",
        "from io import StringIO\n",
        "import re                                            # regular expressions\n",
        "\n",
        "# Fix the random seed for reproducibility\n",
        "# !! Important !! : do not change this\n",
        "seed = 123\n",
        "pyro.set_rng_seed(seed)\n",
        "#np.random.seed(seed);\n",
        "#torch.manual_seed(seed);'''"
      ],
      "metadata": {
        "id": "-3dX-noEakzs",
        "colab": {
          "base_uri": "https://localhost:8080/",
          "height": 90
        },
        "outputId": "91b02fbf-b82d-410d-f059-79871a2872fc"
      },
      "execution_count": 2,
      "outputs": [
        {
          "output_type": "execute_result",
          "data": {
            "text/plain": [
              "'import matplotlib.pyplot as plt\\n\\nimport pyGMs as gm\\nimport numpy as np\\nimport torch\\n\\nimport pyro\\nimport numpyro\\nimport numpyro.infer\\nimport numpyro.optim\\nimport numpyro.distributions as dist\\nimport pyro.poutine as poutine\\nfrom jax import random\\nimport jax.numpy as jnp\\n\\nimport pandas as pd\\n\\nimport requests                                      # reading data\\nfrom io import StringIO\\nimport re                                            # regular expressions\\n\\n# Fix the random seed for reproducibility\\n# !! Important !! : do not change this\\nseed = 123\\npyro.set_rng_seed(seed)\\n#np.random.seed(seed);\\n#torch.manual_seed(seed);'"
            ],
            "application/vnd.google.colaboratory.intrinsic+json": {
              "type": "string"
            }
          },
          "metadata": {},
          "execution_count": 2
        }
      ]
    },
    {
      "cell_type": "code",
      "source": [
        "\n",
        "import pandas as pd\n",
        "\n",
        "#getting info\n",
        "df = pd.read_csv('games.csv')\n",
        "\n",
        "\n",
        "#print(df['white_id'])\n",
        "white_ids = df['white_id']\n",
        "black_ids =  df[\"black_id\"]\n",
        "winners = df[\"winner\"]\n",
        "\n",
        "print(white_ids[:5])"
      ],
      "metadata": {
        "colab": {
          "base_uri": "https://localhost:8080/"
        },
        "id": "zi8TafudanM1",
        "outputId": "23bdec44-0e1b-46dc-be28-890a1a0a9ed7"
      },
      "execution_count": 3,
      "outputs": [
        {
          "output_type": "stream",
          "name": "stdout",
          "text": [
            "0         bourgris\n",
            "1             a-00\n",
            "2           ischia\n",
            "3    daniamurashov\n",
            "4        nik221107\n",
            "Name: white_id, dtype: object\n"
          ]
        }
      ]
    },
    {
      "cell_type": "code",
      "source": [
        "import numpy as np\n",
        "\n",
        "uniqueppl = white_ids.tolist()\n",
        "uniqueppl.extend(black_ids.tolist())\n",
        "\n",
        "uppl = np.array(list(set(uniqueppl)))#set of unique people\n",
        "\n",
        "n_players = len(uppl)\n",
        "uppl = []\n",
        "\n",
        "# reformat gamesplayed -> winner first, loser second\n",
        "gamesplayed = []\n",
        "for game in range(len(df)):\n",
        "    white_id = df.iloc[game].white_id\n",
        "    black_id = df.iloc[game].black_id\n",
        "\n",
        "\n",
        "    if df.iloc[game].victory_status == \"mate\":\n",
        "      uppl.append(white_id)\n",
        "      uppl.append(black_id)\n",
        "      if df.iloc[game].winner == \"white\":\n",
        "          gamesplayed.append([white_id, black_id])\n",
        "      if df.iloc[game].winner == \"black\":\n",
        "          gamesplayed.append([black_id, white_id])\n",
        "\n",
        "    #if df.iloc[game].victory_status == \"draw\":\n",
        "          #gamesplayed.append([black_id, white_id])\n",
        "          #gamesplayed.append([white_id, black_id])\n",
        "\n",
        "\n",
        "\n",
        "print(gamesplayed[0:5])\n",
        "uppl = np.array(list(set(uppl)))\n",
        "n_players = len(uppl)"
      ],
      "metadata": {
        "id": "Jl-b7AhNapBn",
        "colab": {
          "base_uri": "https://localhost:8080/"
        },
        "outputId": "8b118972-9e37-40e3-ce60-c9269b88ce2d"
      },
      "execution_count": 4,
      "outputs": [
        {
          "output_type": "stream",
          "name": "stdout",
          "text": [
            "[['ischia', 'a-00'], ['daniamurashov', 'adivanov2009'], ['nik221107', 'adivanov2009'], ['daniel_likes_chess', 'mirco25'], ['daniel_likes_chess', 'anaissac']]\n"
          ]
        }
      ]
    },
    {
      "cell_type": "code",
      "source": [
        "import numpy as np\n",
        "import pymc as pm\n",
        "\n",
        "# convert str to int\n",
        "player_to_id = {player: i for i, player in enumerate(uppl)}\n",
        "player_ids = np.array([[player_to_id[winner], player_to_id[loser]] for winner, loser in gamesplayed])\n",
        "\n",
        "# check sizes -> something is wrong here. tracce has more players than uppl\n",
        "print(len(uppl))\n",
        "print(len(player_to_id))\n",
        "print(len(player_ids))\n",
        "\n",
        "with pm.Model() as model:\n",
        "    player_sd = pm.HalfNormal(\"player_sd\", sigma=1.0)\n",
        "    player_skills_raw = pm.Normal(\n",
        "        \"player_skills_raw\", 0.0, sigma=1.0, shape=(n_players,)\n",
        "    )\n",
        "    player_skills = pm.Deterministic(\"player_skills\", player_skills_raw * player_sd)\n",
        "\n",
        "    winner_ids = player_ids[:, 0]\n",
        "    loser_ids = player_ids[:, 1]\n",
        "\n",
        "    logit_skills = player_skills[winner_ids] - player_skills[loser_ids]\n",
        "    lik = pm.Bernoulli(\n",
        "        \"win_lik\", logit_p=logit_skills, observed=np.ones(winner_ids.shape[0])\n",
        "    )\n",
        "\n",
        "    # Sample using the numpyro backend for JAX\n",
        "    trace = pm.sample(4000, tune=1000, chains=4, cores=1, nuts_sampler='numpyro', random_seed=42)"
      ],
      "metadata": {
        "id": "jqTYHwC7arQd",
        "colab": {
          "base_uri": "https://localhost:8080/",
          "height": 200,
          "referenced_widgets": [
            "3542e0469ace4d0aa3283d36b47e45b7",
            "a783b6170f014d12810e52b542ee6b6b",
            "a573163fbb7044d08f1a6ccbdd0c29c5",
            "022d7f15d96046bfbb7789b2404eea81",
            "d90affb11d40492a871f84a653857415",
            "b8d8d36fa4964573876f537765ce7487",
            "e3cdaa389b3340f9aa3c8fc256ae9324",
            "b37aeca4c0224bb38ec30bc0b1e1c295",
            "e17be112743543bc9a3773d08ed67f6c",
            "a78d2f29c57e4e688f96d826189397f7",
            "e82376662f2f4a99b3d589a469b85aae",
            "113ff3fced7548b5b5a812ab3ea97d56",
            "6825b9a29c1f4816afd6c89bcd6c0454",
            "314cd4047d2c49fa8897b5256fb7403c",
            "7d8f6249db374bddbdd6eb0780e30c53",
            "25e9d2661f2b4b4e940a45b103a8b7c5",
            "7cf948e9a9894d138ddf62140267ae55",
            "80e65914f68946e39b871abd146bdf30",
            "ca9a08cce5c14fd4b8fc6ba80bd0b463",
            "090113f8db9540d3a8492160a93f8b48",
            "08940930a0784e84b23da794d32d464e",
            "f4ce035d1c7f4912bc7b1ea85bb7ba05",
            "b79f8ac1d1994f9983e388202c1341e5",
            "864701cbe79a481298051ee1bc92af14",
            "38462c2cee594f32b244b9872a4757ac",
            "05b4367080a14f6381b9c1858c307854",
            "8cde99f5a3cc499986f3146c6bf1a4fe",
            "3e530dc6b35448a4be65ec644abc7844",
            "12fea079fea74b0f8729994c86c1aa8a",
            "10cd8cb403734e188807b19079ad9b78",
            "6d45c7354ec04bc59d07c3dbf92e3133",
            "5c81b4898d8345b391a5f8640666ccf1",
            "86d19a84622c490283b5b3ff0f2c7b00",
            "259225adc37645a8a04ec01fa186287d",
            "3826a9db56cb4e5b8e0dc2eb737b0f49",
            "4bc6cd93b6874c53bc9d056f4bd48bd8",
            "30a832b700de4698a2a9b2d28964430a",
            "43b5f990c4504a0e89fd4fab44151fe8",
            "3bac18123d6f493abb38809f0a98131f",
            "8c7c5353b65144c9b6d224695b31aba9",
            "9499fd366c90411d838eaf3d292e319d",
            "30eba92e448747dda83644ae69ec7e2a",
            "9301e6f1809e4d1f80f27b8c0fee912a",
            "38cc88af1ba84d299acacb78036375b6"
          ]
        },
        "outputId": "be536847-b3f9-464b-99b4-ef60443fedba"
      },
      "execution_count": 5,
      "outputs": [
        {
          "output_type": "stream",
          "name": "stdout",
          "text": [
            "6216\n",
            "6216\n",
            "6325\n"
          ]
        },
        {
          "output_type": "display_data",
          "data": {
            "text/plain": [
              "  0%|          | 0/5000 [00:00<?, ?it/s]"
            ],
            "application/vnd.jupyter.widget-view+json": {
              "version_major": 2,
              "version_minor": 0,
              "model_id": "3542e0469ace4d0aa3283d36b47e45b7"
            }
          },
          "metadata": {}
        },
        {
          "output_type": "display_data",
          "data": {
            "text/plain": [
              "  0%|          | 0/5000 [00:00<?, ?it/s]"
            ],
            "application/vnd.jupyter.widget-view+json": {
              "version_major": 2,
              "version_minor": 0,
              "model_id": "113ff3fced7548b5b5a812ab3ea97d56"
            }
          },
          "metadata": {}
        },
        {
          "output_type": "display_data",
          "data": {
            "text/plain": [
              "  0%|          | 0/5000 [00:00<?, ?it/s]"
            ],
            "application/vnd.jupyter.widget-view+json": {
              "version_major": 2,
              "version_minor": 0,
              "model_id": "b79f8ac1d1994f9983e388202c1341e5"
            }
          },
          "metadata": {}
        },
        {
          "output_type": "display_data",
          "data": {
            "text/plain": [
              "  0%|          | 0/5000 [00:00<?, ?it/s]"
            ],
            "application/vnd.jupyter.widget-view+json": {
              "version_major": 2,
              "version_minor": 0,
              "model_id": "259225adc37645a8a04ec01fa186287d"
            }
          },
          "metadata": {}
        }
      ]
    },
    {
      "cell_type": "code",
      "source": [
        "import arviz as az\n",
        "\n",
        "summary = az.summary(trace, kind=\"stats\")"
      ],
      "metadata": {
        "id": "Gkd2Y1P4azLh"
      },
      "execution_count": 6,
      "outputs": []
    },
    {
      "cell_type": "code",
      "source": [
        "\n",
        "# filter out raw player skills (useless)\n",
        "player_skills_summary = summary[~summary.index.str.startswith('player_skills_raw')]\n",
        "player_skills_summary = player_skills_summary[1:]\n",
        "\n",
        "player_means = player_skills_summary['mean']\n",
        "player_sds = player_skills_summary['sd']\n",
        "print(len(uppl))\n",
        "print(len(player_means))\n",
        "print(len(player_sds))\n",
        "\n",
        "# Create df\n",
        "player_skills_df = pd.DataFrame({\n",
        "    'Player Name': uppl,\n",
        "    'Skill Mean': player_means.values,\n",
        "    'Skill SD': player_sds.values\n",
        "})\n",
        "\n",
        "sorted_player_skills_df = player_skills_df.sort_values(by='Skill Mean', ascending=False)\n",
        "print(sorted_player_skills_df)"
      ],
      "metadata": {
        "colab": {
          "base_uri": "https://localhost:8080/"
        },
        "id": "L1gQmAEcat9m",
        "outputId": "a87ada6a-7e14-4da6-a667-fe558b66dc5e"
      },
      "execution_count": 7,
      "outputs": [
        {
          "output_type": "stream",
          "name": "stdout",
          "text": [
            "6216\n",
            "6216\n",
            "6216\n",
            "             Player Name  Skill Mean  Skill SD\n",
            "2620          brandonbos       4.893     1.496\n",
            "727           fabian1104       4.528     1.545\n",
            "1694           smilsydov       4.504     1.534\n",
            "4192           chesscarl       4.264     1.566\n",
            "1591              apalin       4.231     1.601\n",
            "...                  ...         ...       ...\n",
            "4199          sveenemand      -4.449     1.562\n",
            "784   lucatiel-of-mirrah      -4.542     1.532\n",
            "3472           jarrydlee      -4.546     1.539\n",
            "1223               burks      -4.709     1.512\n",
            "75                marigw      -5.817     1.364\n",
            "\n",
            "[6216 rows x 3 columns]\n"
          ]
        }
      ]
    },
    {
      "cell_type": "markdown",
      "source": [],
      "metadata": {
        "id": "bDLFszMXxh8N"
      }
    },
    {
      "cell_type": "code",
      "source": [],
      "metadata": {
        "id": "j3wkQ3pjxiOK"
      },
      "execution_count": 7,
      "outputs": []
    },
    {
      "cell_type": "code",
      "source": [
        "def numgamess(player_id):\n",
        "  wl = len(df.loc[df['white_id'] == player_id])\n",
        "  bl = len(df.loc[df['black_id'] == player_id])\n",
        "  return wl+bl"
      ],
      "metadata": {
        "id": "B0bvxBphxIVL"
      },
      "execution_count": 8,
      "outputs": []
    },
    {
      "cell_type": "code",
      "source": [],
      "metadata": {
        "id": "HAW3iPusw1ia"
      },
      "execution_count": 8,
      "outputs": []
    },
    {
      "cell_type": "code",
      "source": [],
      "metadata": {
        "id": "iaAmWf3cyB3Z"
      },
      "execution_count": 8,
      "outputs": []
    },
    {
      "cell_type": "code",
      "source": [
        "# Concatenate white_id and black_id columns to get all player ids\n",
        "import math\n",
        "\n",
        "onlymates = df.loc[df['victory_status'] == \"mate\"]\n",
        "\n",
        "all_player_ids = pd.concat([onlymates['white_id'], onlymates['black_id']]).unique()\n",
        "\n",
        "player_avg_ratings = {}\n",
        "\n",
        "\n",
        "\n",
        "for player_id in all_player_ids:\n",
        "    # Get ratings for the current player from both white and black ratings\n",
        "    white_ratings = onlymates.loc[onlymates['white_id'] == player_id, 'white_rating']\n",
        "    black_ratings = onlymates.loc[onlymates['black_id'] == player_id, 'black_rating']\n",
        "    # Calculate the average rating for the player\n",
        "    avg_rating = pd.concat([white_ratings, black_ratings]).mean()\n",
        "    # Store the average rating for the player\n",
        "    if (math.isnan(avg_rating)):\n",
        "      avg_rating = 0\n",
        "    player_avg_ratings[player_id] = avg_rating\n",
        "\n",
        "sorted_player_avg_ratings = sorted(player_avg_ratings.items(), key=lambda x: x[1], reverse=True)\n",
        "\n",
        "avg_rating_df = pd.DataFrame(sorted_player_avg_ratings, columns=['Player Name', 'Elo Rating'])\n",
        "\n",
        "print(avg_rating_df)\n"
      ],
      "metadata": {
        "colab": {
          "base_uri": "https://localhost:8080/"
        },
        "id": "01a6pApKIXtk",
        "outputId": "00da22d1-f294-4a93-e1e6-be337dcee950"
      },
      "execution_count": 9,
      "outputs": [
        {
          "output_type": "stream",
          "name": "stdout",
          "text": [
            "              Player Name  Elo Rating\n",
            "0               lance5500      2621.0\n",
            "1               le_truand      2524.0\n",
            "2              chess-stat      2500.0\n",
            "3                  papasi      2489.0\n",
            "4             amir2002zzz      2454.5\n",
            "...                   ...         ...\n",
            "6211             mata1234       808.0\n",
            "6212        alliekatxoxo1       807.0\n",
            "6213          epicchess66       796.0\n",
            "6214     christinebitonti       795.0\n",
            "6215  ragnarlothbrook_spb       784.0\n",
            "\n",
            "[6216 rows x 2 columns]\n"
          ]
        }
      ]
    },
    {
      "cell_type": "code",
      "source": [
        "avg_rating_df.loc[avg_rating_df['Player Name'] == \"shahen07\"]\n",
        "sorted_player_skills_df.loc[sorted_player_skills_df['Player Name'] == \"shahen07\"]\n"
      ],
      "metadata": {
        "colab": {
          "base_uri": "https://localhost:8080/",
          "height": 53
        },
        "id": "zAA6pAziG776",
        "outputId": "45d7be40-ee10-403a-ffad-1b6824b89093"
      },
      "execution_count": 10,
      "outputs": [
        {
          "output_type": "execute_result",
          "data": {
            "text/plain": [
              "Empty DataFrame\n",
              "Columns: [Player Name, Skill Mean, Skill SD]\n",
              "Index: []"
            ],
            "text/html": [
              "\n",
              "  <div id=\"df-05157699-d294-47a9-b6cf-41e6ba01a8db\" class=\"colab-df-container\">\n",
              "    <div>\n",
              "<style scoped>\n",
              "    .dataframe tbody tr th:only-of-type {\n",
              "        vertical-align: middle;\n",
              "    }\n",
              "\n",
              "    .dataframe tbody tr th {\n",
              "        vertical-align: top;\n",
              "    }\n",
              "\n",
              "    .dataframe thead th {\n",
              "        text-align: right;\n",
              "    }\n",
              "</style>\n",
              "<table border=\"1\" class=\"dataframe\">\n",
              "  <thead>\n",
              "    <tr style=\"text-align: right;\">\n",
              "      <th></th>\n",
              "      <th>Player Name</th>\n",
              "      <th>Skill Mean</th>\n",
              "      <th>Skill SD</th>\n",
              "    </tr>\n",
              "  </thead>\n",
              "  <tbody>\n",
              "  </tbody>\n",
              "</table>\n",
              "</div>\n",
              "    <div class=\"colab-df-buttons\">\n",
              "\n",
              "  <div class=\"colab-df-container\">\n",
              "    <button class=\"colab-df-convert\" onclick=\"convertToInteractive('df-05157699-d294-47a9-b6cf-41e6ba01a8db')\"\n",
              "            title=\"Convert this dataframe to an interactive table.\"\n",
              "            style=\"display:none;\">\n",
              "\n",
              "  <svg xmlns=\"http://www.w3.org/2000/svg\" height=\"24px\" viewBox=\"0 -960 960 960\">\n",
              "    <path d=\"M120-120v-720h720v720H120Zm60-500h600v-160H180v160Zm220 220h160v-160H400v160Zm0 220h160v-160H400v160ZM180-400h160v-160H180v160Zm440 0h160v-160H620v160ZM180-180h160v-160H180v160Zm440 0h160v-160H620v160Z\"/>\n",
              "  </svg>\n",
              "    </button>\n",
              "\n",
              "  <style>\n",
              "    .colab-df-container {\n",
              "      display:flex;\n",
              "      gap: 12px;\n",
              "    }\n",
              "\n",
              "    .colab-df-convert {\n",
              "      background-color: #E8F0FE;\n",
              "      border: none;\n",
              "      border-radius: 50%;\n",
              "      cursor: pointer;\n",
              "      display: none;\n",
              "      fill: #1967D2;\n",
              "      height: 32px;\n",
              "      padding: 0 0 0 0;\n",
              "      width: 32px;\n",
              "    }\n",
              "\n",
              "    .colab-df-convert:hover {\n",
              "      background-color: #E2EBFA;\n",
              "      box-shadow: 0px 1px 2px rgba(60, 64, 67, 0.3), 0px 1px 3px 1px rgba(60, 64, 67, 0.15);\n",
              "      fill: #174EA6;\n",
              "    }\n",
              "\n",
              "    .colab-df-buttons div {\n",
              "      margin-bottom: 4px;\n",
              "    }\n",
              "\n",
              "    [theme=dark] .colab-df-convert {\n",
              "      background-color: #3B4455;\n",
              "      fill: #D2E3FC;\n",
              "    }\n",
              "\n",
              "    [theme=dark] .colab-df-convert:hover {\n",
              "      background-color: #434B5C;\n",
              "      box-shadow: 0px 1px 3px 1px rgba(0, 0, 0, 0.15);\n",
              "      filter: drop-shadow(0px 1px 2px rgba(0, 0, 0, 0.3));\n",
              "      fill: #FFFFFF;\n",
              "    }\n",
              "  </style>\n",
              "\n",
              "    <script>\n",
              "      const buttonEl =\n",
              "        document.querySelector('#df-05157699-d294-47a9-b6cf-41e6ba01a8db button.colab-df-convert');\n",
              "      buttonEl.style.display =\n",
              "        google.colab.kernel.accessAllowed ? 'block' : 'none';\n",
              "\n",
              "      async function convertToInteractive(key) {\n",
              "        const element = document.querySelector('#df-05157699-d294-47a9-b6cf-41e6ba01a8db');\n",
              "        const dataTable =\n",
              "          await google.colab.kernel.invokeFunction('convertToInteractive',\n",
              "                                                    [key], {});\n",
              "        if (!dataTable) return;\n",
              "\n",
              "        const docLinkHtml = 'Like what you see? Visit the ' +\n",
              "          '<a target=\"_blank\" href=https://colab.research.google.com/notebooks/data_table.ipynb>data table notebook</a>'\n",
              "          + ' to learn more about interactive tables.';\n",
              "        element.innerHTML = '';\n",
              "        dataTable['output_type'] = 'display_data';\n",
              "        await google.colab.output.renderOutput(dataTable, element);\n",
              "        const docLink = document.createElement('div');\n",
              "        docLink.innerHTML = docLinkHtml;\n",
              "        element.appendChild(docLink);\n",
              "      }\n",
              "    </script>\n",
              "  </div>\n",
              "\n",
              "\n",
              "    </div>\n",
              "  </div>\n"
            ],
            "application/vnd.google.colaboratory.intrinsic+json": {
              "type": "dataframe",
              "repr_error": "Out of range float values are not JSON compliant: nan"
            }
          },
          "metadata": {},
          "execution_count": 10
        }
      ]
    },
    {
      "cell_type": "code",
      "source": [
        "from scipy.stats import spearmanr\n",
        "\n",
        "# Get actual and predicted rankings for all players\n",
        "actual_rankings_all = []\n",
        "predicted_rankings_all = []\n",
        "\n",
        "for i, player_name in enumerate(sorted_player_skills_df['Player Name']):\n",
        "    #print(player_name,avg_rating_df.loc[avg_rating_df['Player Name'] == player_name])\n",
        "    actual_ranking = avg_rating_df.loc[avg_rating_df['Player Name'] == player_name].index[0]\n",
        "    actual_rankings_all.append(actual_ranking)\n",
        "    predicted_rankings_all.append(i)\n",
        "\n",
        "# Compute the Spearman rank correlation coefficient for all players\n",
        "\n",
        "spearman_corr_all, _ = spearmanr(predicted_rankings_all, actual_rankings_all)\n",
        "print(f\"Spearman Rank Correlation Coefficient for All Players: {spearman_corr_all}\")"
      ],
      "metadata": {
        "colab": {
          "base_uri": "https://localhost:8080/"
        },
        "id": "mGWB2cHNAnlj",
        "outputId": "d7514698-3784-4c82-efda-a321a96190d9"
      },
      "execution_count": 11,
      "outputs": [
        {
          "output_type": "stream",
          "name": "stdout",
          "text": [
            "Spearman Rank Correlation Coefficient for All Players: 0.22309552926360113\n"
          ]
        }
      ]
    },
    {
      "cell_type": "code",
      "source": [
        "print(len(predicted_rankings_all))\n",
        "print(sorted_player_skills_df.loc[sorted_player_skills_df['Player Name'] == \"yamaguchipolgar\"])\n"
      ],
      "metadata": {
        "id": "A0HFmGb8NlFM",
        "colab": {
          "base_uri": "https://localhost:8080/"
        },
        "outputId": "af840d8f-718a-4a12-a6e3-4aad224f3239"
      },
      "execution_count": 12,
      "outputs": [
        {
          "output_type": "stream",
          "name": "stdout",
          "text": [
            "6216\n",
            "Empty DataFrame\n",
            "Columns: [Player Name, Skill Mean, Skill SD]\n",
            "Index: []\n"
          ]
        }
      ]
    },
    {
      "cell_type": "code",
      "source": [
        "print(np.where(np.array(actual_rankings_all) == 252))"
      ],
      "metadata": {
        "colab": {
          "base_uri": "https://localhost:8080/"
        },
        "id": "8fxzEMb1KROr",
        "outputId": "28aa6b4c-6a7c-461a-bf1a-9094a4bde226"
      },
      "execution_count": 13,
      "outputs": [
        {
          "output_type": "stream",
          "name": "stdout",
          "text": [
            "(array([3407]),)\n"
          ]
        }
      ]
    },
    {
      "cell_type": "code",
      "source": [
        "print(avg_rating_df.loc[avg_rating_df['Player Name'] == \"chesscarl\"])"
      ],
      "metadata": {
        "colab": {
          "base_uri": "https://localhost:8080/"
        },
        "id": "VmzvAcx9KUGo",
        "outputId": "ffa198a5-50e1-42a1-91e9-b286e3534430"
      },
      "execution_count": 14,
      "outputs": [
        {
          "output_type": "stream",
          "name": "stdout",
          "text": [
            "   Player Name  Elo Rating\n",
            "70   chesscarl      2214.4\n"
          ]
        }
      ]
    },
    {
      "cell_type": "code",
      "source": [],
      "metadata": {
        "id": "v5AcmsqFhFTQ"
      },
      "execution_count": 14,
      "outputs": []
    },
    {
      "cell_type": "code",
      "source": [
        "print(sorted_player_skills_df.loc[sorted_player_skills_df[\"Player Name\"] == \"lance5500\"  ])\n",
        "print(avg_rating_df.loc[avg_rating_df['Player Name'] == \"lance5500\"])\n",
        "print(\"played games\" , numgamess(\"lance5500\"), \"\\n\")\n",
        "\n",
        "print(sorted_player_skills_df.loc[sorted_player_skills_df[\"Player Name\"] == \"fabian1104\"  ])\n",
        "print(avg_rating_df.loc[avg_rating_df['Player Name'] == \"fabian1104\"])\n",
        "print(\"played games\" , numgamess(\"fabian1104\"), \"\\n\")\n",
        "\n",
        "print(sorted_player_skills_df.loc[sorted_player_skills_df[\"Player Name\"] == \"chess-stat\"  ])\n",
        "print(avg_rating_df.loc[avg_rating_df['Player Name'] == \"chess-stat\"])\n",
        "print(\"played games\" , numgamess(\"chess-stat\"), \"\\n\")\n",
        "\n"
      ],
      "metadata": {
        "colab": {
          "base_uri": "https://localhost:8080/"
        },
        "id": "3DZ1CS5ghzb6",
        "outputId": "a45bb80d-77fe-4509-b478-270c24e4a594"
      },
      "execution_count": 15,
      "outputs": [
        {
          "output_type": "stream",
          "name": "stdout",
          "text": [
            "     Player Name  Skill Mean  Skill SD\n",
            "6032   lance5500       3.649     1.637\n",
            "  Player Name  Elo Rating\n",
            "0   lance5500      2621.0\n",
            "played games 44 \n",
            "\n",
            "    Player Name  Skill Mean  Skill SD\n",
            "727  fabian1104       4.528     1.545\n",
            "    Player Name   Elo Rating\n",
            "440  fabian1104  1949.615385\n",
            "played games 40 \n",
            "\n",
            "    Player Name  Skill Mean  Skill SD\n",
            "737  chess-stat       1.322      2.22\n",
            "  Player Name  Elo Rating\n",
            "2  chess-stat      2500.0\n",
            "played games 4 \n",
            "\n"
          ]
        }
      ]
    },
    {
      "cell_type": "code",
      "source": [
        "print(sorted_player_skills_df.loc[sorted_player_skills_df[\"Player Name\"] == \"brandonbos\"  ])\n",
        "print(avg_rating_df.loc[avg_rating_df['Player Name'] == \"brandonbos\"])\n",
        "print(\"played games\" , numgamess(\"brandonbos\"), \"\\n\")\n",
        "\n",
        "print(sorted_player_skills_df.loc[sorted_player_skills_df[\"Player Name\"] == \"siindbad\"  ])\n",
        "print(avg_rating_df.loc[avg_rating_df['Player Name'] == \"siindbad\"])\n",
        "print(\"played games\" , numgamess(\"siindbad\"), \"\\n\")\n",
        "\n",
        "print(sorted_player_skills_df.loc[sorted_player_skills_df[\"Player Name\"] == \"smilsydov\"  ])\n",
        "print(avg_rating_df.loc[avg_rating_df['Player Name'] == \"smilsydov\"])\n",
        "print(\"played games\" , numgamess(\"smilsydov\"), \"\\n\")"
      ],
      "metadata": {
        "id": "AG9KrbqEy4tO"
      },
      "execution_count": null,
      "outputs": []
    },
    {
      "cell_type": "code",
      "source": [],
      "metadata": {
        "id": "ZrrqfxVqzHKB"
      },
      "execution_count": null,
      "outputs": []
    }
  ]
}